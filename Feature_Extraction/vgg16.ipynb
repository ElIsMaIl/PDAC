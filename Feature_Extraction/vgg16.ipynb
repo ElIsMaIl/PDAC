{
 "cells": [
  {
   "cell_type": "raw",
   "id": "9f929780-103c-4be5-ab6d-a47359e9a447",
   "metadata": {},
   "source": [
    "# using the vgg16 model as a feature extraction model\n",
    "import pickle\n",
    "import cv2\n",
    "import pandas as pd\n",
    "from keras.applications.vgg16 import preprocess_input\n",
    "from keras.applications.vgg16 import decode_predictions\n",
    "from keras.applications.vgg16 import VGG16\n",
    "from keras.models import Model\n",
    "\n",
    "\n",
    "import logging\n",
    "logger = logging.getLogger()  # Logger\n",
    "\n",
    "logger.setLevel(\"INFO\")\n",
    "#logging.info(\"Hello\")"
   ]
  },
  {
   "cell_type": "code",
   "execution_count": 2,
   "id": "2107db42-830e-4a19-a014-eac1d82337d0",
   "metadata": {},
   "outputs": [],
   "source": [
    "def write_pickle(path, obj):\n",
    "    with open(path, \"wb\") as f:\n",
    "        pickle.dump(obj, f)\n",
    "        \n",
    "def read_pickle(path):\n",
    "    with open(path, \"rb\") as f:\n",
    "        obj = pickle.load(f)\n",
    "    return obj"
   ]
  },
  {
   "cell_type": "code",
   "execution_count": 3,
   "id": "650bed0e-dd6b-4b91-9b8a-82b3c7dd7a8c",
   "metadata": {},
   "outputs": [],
   "source": [
    "filtered_img_dict = read_pickle(path=\"/mnt/DataRAID/melismail/Preprocessing/data/pickle_data/Preprocessing/filtered_img_dict.pkl\")"
   ]
  },
  {
   "cell_type": "code",
   "execution_count": 4,
   "id": "306e36c4-a91e-4559-a9a1-d06ea5d2dce8",
   "metadata": {},
   "outputs": [],
   "source": [
    "def image_feature(img, model):\n",
    "    img = cv2.resize(img, (224, 224))\n",
    "    img = cv2.cvtColor(img, cv2.COLOR_BGR2RGB)\n",
    "    img = img.reshape(1, 224, 224, 3)\n",
    "    img = preprocess_input(img)\n",
    "    features = model.predict(img)\n",
    "    return features"
   ]
  },
  {
   "cell_type": "code",
   "execution_count": 5,
   "id": "46cf8f52-6357-4667-8145-17c177749a70",
   "metadata": {},
   "outputs": [
    {
     "name": "stderr",
     "output_type": "stream",
     "text": [
      "INFO:root:LETS GOOOO minu eins\n",
      "2022-08-28 13:03:07.565371: I tensorflow/core/platform/cpu_feature_guard.cc:151] This TensorFlow binary is optimized with oneAPI Deep Neural Network Library (oneDNN) to use the following CPU instructions in performance-critical operations:  AVX2 AVX512F FMA\n",
      "To enable them in other operations, rebuild TensorFlow with the appropriate compiler flags.\n",
      "2022-08-28 13:03:08.062363: I tensorflow/core/common_runtime/gpu/gpu_device.cc:1525] Created device /job:localhost/replica:0/task:0/device:GPU:0 with 30988 MB memory:  -> device: 0, name: Quadro GV100, pci bus id: 0000:65:00.0, compute capability: 7.0\n",
      "2022-08-28 13:03:12.367806: I tensorflow/stream_executor/cuda/cuda_dnn.cc:368] Loaded cuDNN version 8100\n",
      "2022-08-28 13:03:12.746711: I tensorflow/core/platform/default/subprocess.cc:304] Start cannot spawn child process: No such file or directory\n",
      "2022-08-28 13:03:12.747593: I tensorflow/core/platform/default/subprocess.cc:304] Start cannot spawn child process: No such file or directory\n",
      "2022-08-28 13:03:12.747610: W tensorflow/stream_executor/gpu/asm_compiler.cc:80] Couldn't get ptxas version string: INTERNAL: Couldn't invoke ptxas --version\n",
      "2022-08-28 13:03:12.748355: I tensorflow/core/platform/default/subprocess.cc:304] Start cannot spawn child process: No such file or directory\n",
      "2022-08-28 13:03:12.748398: W tensorflow/stream_executor/gpu/redzone_allocator.cc:314] INTERNAL: Failed to launch ptxas\n",
      "Relying on driver to perform ptx compilation. \n",
      "Modify $PATH to customize ptxas location.\n",
      "This message will be only logged once.\n",
      "INFO:root:DOOOONE\n"
     ]
    }
   ],
   "source": [
    "logging.info(\"LETS GOOOO minu eins\")\n",
    "model = VGG16()\n",
    "model = Model(inputs=model.inputs, outputs=model.layers[-2].output)\n",
    "\n",
    "features_img_dict = {k: image_feature(img=v, model=model)[0]\n",
    "                    for k, v in filtered_img_dict.items()}\n",
    "logging.info(\"DOOOONE\")"
   ]
  },
  {
   "cell_type": "code",
   "execution_count": 6,
   "id": "f6dfc86d-1c86-49af-9b04-b3261fc8332a",
   "metadata": {},
   "outputs": [
    {
     "name": "stdout",
     "output_type": "stream",
     "text": [
      "Model: \"model\"\n",
      "_________________________________________________________________\n",
      " Layer (type)                Output Shape              Param #   \n",
      "=================================================================\n",
      " input_1 (InputLayer)        [(None, 224, 224, 3)]     0         \n",
      "                                                                 \n",
      " block1_conv1 (Conv2D)       (None, 224, 224, 64)      1792      \n",
      "                                                                 \n",
      " block1_conv2 (Conv2D)       (None, 224, 224, 64)      36928     \n",
      "                                                                 \n",
      " block1_pool (MaxPooling2D)  (None, 112, 112, 64)      0         \n",
      "                                                                 \n",
      " block2_conv1 (Conv2D)       (None, 112, 112, 128)     73856     \n",
      "                                                                 \n",
      " block2_conv2 (Conv2D)       (None, 112, 112, 128)     147584    \n",
      "                                                                 \n",
      " block2_pool (MaxPooling2D)  (None, 56, 56, 128)       0         \n",
      "                                                                 \n",
      " block3_conv1 (Conv2D)       (None, 56, 56, 256)       295168    \n",
      "                                                                 \n",
      " block3_conv2 (Conv2D)       (None, 56, 56, 256)       590080    \n",
      "                                                                 \n",
      " block3_conv3 (Conv2D)       (None, 56, 56, 256)       590080    \n",
      "                                                                 \n",
      " block3_pool (MaxPooling2D)  (None, 28, 28, 256)       0         \n",
      "                                                                 \n",
      " block4_conv1 (Conv2D)       (None, 28, 28, 512)       1180160   \n",
      "                                                                 \n",
      " block4_conv2 (Conv2D)       (None, 28, 28, 512)       2359808   \n",
      "                                                                 \n",
      " block4_conv3 (Conv2D)       (None, 28, 28, 512)       2359808   \n",
      "                                                                 \n",
      " block4_pool (MaxPooling2D)  (None, 14, 14, 512)       0         \n",
      "                                                                 \n",
      " block5_conv1 (Conv2D)       (None, 14, 14, 512)       2359808   \n",
      "                                                                 \n",
      " block5_conv2 (Conv2D)       (None, 14, 14, 512)       2359808   \n",
      "                                                                 \n",
      " block5_conv3 (Conv2D)       (None, 14, 14, 512)       2359808   \n",
      "                                                                 \n",
      " block5_pool (MaxPooling2D)  (None, 7, 7, 512)         0         \n",
      "                                                                 \n",
      " flatten (Flatten)           (None, 25088)             0         \n",
      "                                                                 \n",
      " fc1 (Dense)                 (None, 4096)              102764544 \n",
      "                                                                 \n",
      " fc2 (Dense)                 (None, 4096)              16781312  \n",
      "                                                                 \n",
      "=================================================================\n",
      "Total params: 134,260,544\n",
      "Trainable params: 134,260,544\n",
      "Non-trainable params: 0\n",
      "_________________________________________________________________\n"
     ]
    }
   ],
   "source": [
    "model.summary()"
   ]
  },
  {
   "cell_type": "code",
   "execution_count": 7,
   "id": "1098bda3-0d0a-4dac-9364-e4e597ee02e3",
   "metadata": {},
   "outputs": [],
   "source": [
    "feature_df = pd.DataFrame(features_img_dict.items(), columns=['Img', 'Features'])"
   ]
  },
  {
   "cell_type": "code",
   "execution_count": 8,
   "id": "4c19c225-03f3-4ec4-9629-da8716fdd2b8",
   "metadata": {},
   "outputs": [
    {
     "name": "stdout",
     "output_type": "stream",
     "text": [
      "                   Img                                           Features\n",
      "0       (18QH2FGR4, 0)  [0.0, 0.0, 1.038609, 0.40217385, 0.0, 0.0, 1.6...\n",
      "1       (18QH2FGR4, 1)  [0.0, 0.0, 0.87803453, 0.07146531, 0.0, 0.0, 1...\n",
      "2       (18QH2FGR4, 2)  [0.0, 0.0, 1.0074568, 0.0, 0.0, 0.0, 0.5638169...\n",
      "3       (18QH2FGR4, 3)  [0.0, 0.0, 1.0402813, 0.58489525, 0.0, 0.0, 1....\n",
      "4       (18QH2FGR4, 4)  [0.0, 0.0, 0.4474144, 0.07801977, 0.0, 0.0, 1....\n",
      "...                ...                                                ...\n",
      "6056  (ILH0VMVF5, 831)  [0.0, 0.0, 0.37155667, 0.0, 0.0, 0.0, 0.0, 0.0...\n",
      "6057  (ILH0VMVF5, 832)  [0.0, 0.0, 0.4551359, 0.0, 0.0, 0.0, 0.0, 0.0,...\n",
      "6058  (ILH0VMVF5, 833)  [0.0, 0.0, 0.30545402, 0.0, 0.0, 0.0, 0.0, 0.0...\n",
      "6059  (ILH0VMVF5, 834)  [0.0, 0.0, 0.37944373, 0.0, 0.0, 0.0, 0.0, 0.0...\n",
      "6060  (ILH0VMVF5, 835)  [0.0, 0.0, 0.8443246, 0.0, 0.0, 0.0, 0.2672930...\n",
      "\n",
      "[6061 rows x 2 columns]\n"
     ]
    }
   ],
   "source": [
    "print(feature_df)"
   ]
  },
  {
   "cell_type": "code",
   "execution_count": 9,
   "id": "26dd3d56-4083-4e97-978c-632a5df8418a",
   "metadata": {},
   "outputs": [],
   "source": [
    "write_pickle(path=\"/mnt/DataRAID/melismail/Preprocessing/data/pickle_data/Preprocessing/features_vgg_without_top_img_dict.pkl\", obj=features_img_dict)\n",
    "write_pickle(path=\"/mnt/DataRAID/melismail/Preprocessing/data/pickle_data/Preprocessing/features_vgg_without_top_img_df.pkl\", obj=feature_df)"
   ]
  }
 ],
 "metadata": {
  "kernelspec": {
   "display_name": "PDAC",
   "language": "python",
   "name": "pdac"
  },
  "language_info": {
   "codemirror_mode": {
    "name": "ipython",
    "version": 3
   },
   "file_extension": ".py",
   "mimetype": "text/x-python",
   "name": "python",
   "nbconvert_exporter": "python",
   "pygments_lexer": "ipython3",
   "version": "3.9.12"
  }
 },
 "nbformat": 4,
 "nbformat_minor": 5
}
