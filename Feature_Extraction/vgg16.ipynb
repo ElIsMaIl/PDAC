{
 "cells": [
  {
   "cell_type": "code",
   "execution_count": 1,
   "id": "0d25c311-cef2-4c9d-8602-d23dcf1b44d2",
   "metadata": {},
   "outputs": [],
   "source": [
    "working_directory = '/mnt/DataRAID/melismail/PDAC'\n",
    "import os\n",
    "os.chdir(working_directory)\n",
    "from pickle_utils import write_pickle, read_pickle\n",
    "\n",
    "import pandas as pd\n",
    "import numpy as np\n",
    "import sys, cv2\n",
    "\n",
    "from keras.applications.vgg16 import preprocess_input\n",
    "from keras.applications.vgg16 import decode_predictions\n",
    "from keras.applications.vgg16 import VGG16\n",
    "from keras.models import Model"
   ]
  },
  {
   "cell_type": "code",
   "execution_count": 2,
   "id": "650bed0e-dd6b-4b91-9b8a-82b3c7dd7a8c",
   "metadata": {},
   "outputs": [],
   "source": [
    "base_path = '/mnt/DataRAID/melismail/PDAC/data'\n",
    "preprocessing_path ='Preprocessing_images'\n",
    "filtered_path = 'filtered'\n",
    "dim = 224\n",
    "dim_path = f\"{dim}x{dim}\"\n",
    "features_path = 'Features_extraction'\n",
    "model_path = 'VGG-16'"
   ]
  },
  {
   "cell_type": "code",
   "execution_count": 3,
   "id": "4632dab4-ce15-45e9-8cba-65b063d24c14",
   "metadata": {},
   "outputs": [],
   "source": [
    "filtered_img_dict = read_pickle(os.path.join(base_path, preprocessing_path, filtered_path, dim_path, f\"{filtered_path}_{dim_path}_img_dict.pkl\"))"
   ]
  },
  {
   "cell_type": "code",
   "execution_count": 4,
   "id": "306e36c4-a91e-4559-a9a1-d06ea5d2dce8",
   "metadata": {},
   "outputs": [],
   "source": [
    "def image_feature(img, model):\n",
    "    img = cv2.resize(img, (224, 224))\n",
    "    img = cv2.cvtColor(img, cv2.COLOR_BGR2RGB)\n",
    "    img = img.reshape(1, 224, 224, 3)\n",
    "    img = preprocess_input(img)\n",
    "    features = model.predict(img)\n",
    "    return features"
   ]
  },
  {
   "cell_type": "code",
   "execution_count": 5,
   "id": "46cf8f52-6357-4667-8145-17c177749a70",
   "metadata": {},
   "outputs": [
    {
     "name": "stdout",
     "output_type": "stream",
     "text": [
      "path did not exist: /mnt/DataRAID/melismail/PDAC/data/Features_extraction/VGG-16/224x224/VGG-16_224x224_img_dict.pkl\n"
     ]
    },
    {
     "name": "stderr",
     "output_type": "stream",
     "text": [
      "2022-09-18 00:03:42.102748: I tensorflow/core/platform/cpu_feature_guard.cc:151] This TensorFlow binary is optimized with oneAPI Deep Neural Network Library (oneDNN) to use the following CPU instructions in performance-critical operations:  AVX2 AVX512F FMA\n",
      "To enable them in other operations, rebuild TensorFlow with the appropriate compiler flags.\n",
      "2022-09-18 00:03:42.615153: I tensorflow/core/common_runtime/gpu/gpu_device.cc:1525] Created device /job:localhost/replica:0/task:0/device:GPU:0 with 30988 MB memory:  -> device: 0, name: Quadro GV100, pci bus id: 0000:65:00.0, compute capability: 7.0\n",
      "2022-09-18 00:03:45.459121: I tensorflow/stream_executor/cuda/cuda_dnn.cc:368] Loaded cuDNN version 8100\n",
      "2022-09-18 00:03:45.847434: I tensorflow/core/platform/default/subprocess.cc:304] Start cannot spawn child process: No such file or directory\n",
      "2022-09-18 00:03:45.848270: I tensorflow/core/platform/default/subprocess.cc:304] Start cannot spawn child process: No such file or directory\n",
      "2022-09-18 00:03:45.848299: W tensorflow/stream_executor/gpu/asm_compiler.cc:80] Couldn't get ptxas version string: INTERNAL: Couldn't invoke ptxas --version\n",
      "2022-09-18 00:03:45.849022: I tensorflow/core/platform/default/subprocess.cc:304] Start cannot spawn child process: No such file or directory\n",
      "2022-09-18 00:03:45.849063: W tensorflow/stream_executor/gpu/redzone_allocator.cc:314] INTERNAL: Failed to launch ptxas\n",
      "Relying on driver to perform ptx compilation. \n",
      "Modify $PATH to customize ptxas location.\n",
      "This message will be only logged once.\n"
     ]
    },
    {
     "name": "stdout",
     "output_type": "stream",
     "text": [
      "Count of TILE features:   33647\n"
     ]
    }
   ],
   "source": [
    "features_img_dict = read_pickle(path=os.path.join(base_path, features_path, model_path, dim_path, f\"{model_path}_{dim_path}_img_dict.pkl\"))\n",
    "if features_img_dict is None:  \n",
    "    model = VGG16()\n",
    "    model = Model(inputs=model.inputs, outputs=model.layers[-2].output)\n",
    "\n",
    "    features_img_dict = {k: image_feature(img=v, model=model)[0]\n",
    "                    for k, v in filtered_img_dict.items()}\n",
    "\n",
    "    write_pickle(path=os.path.join(base_path, features_path, model_path, dim_path, f\"{model_path}_{dim_path}_img_dict.pkl\"), obj=features_img_dict)\n",
    "    print(f\"Count of TILE features:   {len(features_img_dict.items())}\")\n",
    "else:\n",
    "    print(\"Read from Disk\")"
   ]
  },
  {
   "cell_type": "code",
   "execution_count": 6,
   "id": "f6dfc86d-1c86-49af-9b04-b3261fc8332a",
   "metadata": {},
   "outputs": [
    {
     "name": "stdout",
     "output_type": "stream",
     "text": [
      "Model: \"model\"\n",
      "_________________________________________________________________\n",
      " Layer (type)                Output Shape              Param #   \n",
      "=================================================================\n",
      " input_1 (InputLayer)        [(None, 224, 224, 3)]     0         \n",
      "                                                                 \n",
      " block1_conv1 (Conv2D)       (None, 224, 224, 64)      1792      \n",
      "                                                                 \n",
      " block1_conv2 (Conv2D)       (None, 224, 224, 64)      36928     \n",
      "                                                                 \n",
      " block1_pool (MaxPooling2D)  (None, 112, 112, 64)      0         \n",
      "                                                                 \n",
      " block2_conv1 (Conv2D)       (None, 112, 112, 128)     73856     \n",
      "                                                                 \n",
      " block2_conv2 (Conv2D)       (None, 112, 112, 128)     147584    \n",
      "                                                                 \n",
      " block2_pool (MaxPooling2D)  (None, 56, 56, 128)       0         \n",
      "                                                                 \n",
      " block3_conv1 (Conv2D)       (None, 56, 56, 256)       295168    \n",
      "                                                                 \n",
      " block3_conv2 (Conv2D)       (None, 56, 56, 256)       590080    \n",
      "                                                                 \n",
      " block3_conv3 (Conv2D)       (None, 56, 56, 256)       590080    \n",
      "                                                                 \n",
      " block3_pool (MaxPooling2D)  (None, 28, 28, 256)       0         \n",
      "                                                                 \n",
      " block4_conv1 (Conv2D)       (None, 28, 28, 512)       1180160   \n",
      "                                                                 \n",
      " block4_conv2 (Conv2D)       (None, 28, 28, 512)       2359808   \n",
      "                                                                 \n",
      " block4_conv3 (Conv2D)       (None, 28, 28, 512)       2359808   \n",
      "                                                                 \n",
      " block4_pool (MaxPooling2D)  (None, 14, 14, 512)       0         \n",
      "                                                                 \n",
      " block5_conv1 (Conv2D)       (None, 14, 14, 512)       2359808   \n",
      "                                                                 \n",
      " block5_conv2 (Conv2D)       (None, 14, 14, 512)       2359808   \n",
      "                                                                 \n",
      " block5_conv3 (Conv2D)       (None, 14, 14, 512)       2359808   \n",
      "                                                                 \n",
      " block5_pool (MaxPooling2D)  (None, 7, 7, 512)         0         \n",
      "                                                                 \n",
      " flatten (Flatten)           (None, 25088)             0         \n",
      "                                                                 \n",
      " fc1 (Dense)                 (None, 4096)              102764544 \n",
      "                                                                 \n",
      " fc2 (Dense)                 (None, 4096)              16781312  \n",
      "                                                                 \n",
      "=================================================================\n",
      "Total params: 134,260,544\n",
      "Trainable params: 134,260,544\n",
      "Non-trainable params: 0\n",
      "_________________________________________________________________\n"
     ]
    }
   ],
   "source": [
    "model.summary()"
   ]
  },
  {
   "cell_type": "code",
   "execution_count": 8,
   "id": "1098bda3-0d0a-4dac-9364-e4e597ee02e3",
   "metadata": {},
   "outputs": [],
   "source": [
    "feature_df = pd.DataFrame(data=[{\"Pseudonym\": k[0], \"tile_id\": k[1], \"Features\": v} for k, v in features_img_dict.items()])\n",
    "write_pickle(path=os.path.join(base_path, features_path, model_path, dim_path, f\"{model_path}_{dim_path}_img_df.pkl\"), obj=feature_df)"
   ]
  }
 ],
 "metadata": {
  "kernelspec": {
   "display_name": "PDAC",
   "language": "python",
   "name": "pdac"
  },
  "language_info": {
   "codemirror_mode": {
    "name": "ipython",
    "version": 3
   },
   "file_extension": ".py",
   "mimetype": "text/x-python",
   "name": "python",
   "nbconvert_exporter": "python",
   "pygments_lexer": "ipython3",
   "version": "3.9.12"
  }
 },
 "nbformat": 4,
 "nbformat_minor": 5
}
