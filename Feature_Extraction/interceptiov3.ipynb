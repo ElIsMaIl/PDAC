{
 "cells": [
  {
   "cell_type": "code",
   "execution_count": 1,
   "id": "51414c7f-99a5-4f2b-9dcd-c94e4185e303",
   "metadata": {},
   "outputs": [],
   "source": [
    "working_directory = '/mnt/DataRAID/melismail/PDAC'\n",
    "import os\n",
    "os.chdir(working_directory)\n",
    "from pickle_utils import write_pickle, read_pickle\n",
    "\n",
    "import pandas as pd\n",
    "import numpy as np\n",
    "import sys, cv2\n",
    "\n",
    "from tensorflow.keras.applications.inception_v3 import InceptionV3\n",
    "from tensorflow.keras.applications.inception_v3 import preprocess_input\n",
    "from tensorflow.keras.preprocessing import image\n",
    "from tensorflow.keras.preprocessing.image import img_to_array"
   ]
  },
  {
   "cell_type": "code",
   "execution_count": 2,
   "id": "32a19264-a821-46dc-915d-ac8de9fe8ef9",
   "metadata": {},
   "outputs": [],
   "source": [
    "base_path = '/mnt/DataRAID/melismail/PDAC/data'\n",
    "preprocessing_path ='Preprocessing_images'\n",
    "filtered_path = 'filtered'\n",
    "dim = 512\n",
    "dim_path = f\"{dim}x{dim}\"\n",
    "features_path = 'Features_extraction'\n",
    "model_path = \"InceptionV3\""
   ]
  },
  {
   "cell_type": "code",
   "execution_count": 3,
   "id": "e0e1fd51-502a-476e-b26f-c5e3734f7241",
   "metadata": {},
   "outputs": [],
   "source": [
    "filtered_img_dict = read_pickle(os.path.join(base_path, preprocessing_path, filtered_path, dim_path, f\"{filtered_path}_{dim_path}_img_dict.pkl\"))"
   ]
  },
  {
   "cell_type": "code",
   "execution_count": 4,
   "id": "f7fda241-373d-4ce1-b88b-d684d3026513",
   "metadata": {},
   "outputs": [],
   "source": [
    "# Function to Extract features from the images\n",
    "def image_feature(img, model):\n",
    "    x = np.expand_dims(img,axis=0)\n",
    "    x = preprocess_input(x)\n",
    "    feat=model.predict(x)\n",
    "    feat=feat.flatten()\n",
    "    return feat"
   ]
  },
  {
   "cell_type": "code",
   "execution_count": 5,
   "id": "8bd1d3b2-f8e5-42a9-a827-38c5cf0dc494",
   "metadata": {},
   "outputs": [
    {
     "name": "stdout",
     "output_type": "stream",
     "text": [
      "path did not exist: /mnt/DataRAID/melismail/PDAC/data/Features_extraction/InceptionV3/512x512/InceptionV3_512x512_img_dict.pkl\n"
     ]
    },
    {
     "name": "stderr",
     "output_type": "stream",
     "text": [
      "2022-09-23 17:57:41.969973: I tensorflow/core/platform/cpu_feature_guard.cc:151] This TensorFlow binary is optimized with oneAPI Deep Neural Network Library (oneDNN) to use the following CPU instructions in performance-critical operations:  AVX2 AVX512F FMA\n",
      "To enable them in other operations, rebuild TensorFlow with the appropriate compiler flags.\n",
      "2022-09-23 17:57:45.523788: I tensorflow/core/common_runtime/gpu/gpu_device.cc:1525] Created device /job:localhost/replica:0/task:0/device:GPU:0 with 30988 MB memory:  -> device: 0, name: Quadro GV100, pci bus id: 0000:65:00.0, compute capability: 7.0\n",
      "2022-09-23 17:57:52.762405: I tensorflow/stream_executor/cuda/cuda_dnn.cc:368] Loaded cuDNN version 8100\n",
      "2022-09-23 17:57:57.788799: I tensorflow/core/platform/default/subprocess.cc:304] Start cannot spawn child process: No such file or directory\n",
      "2022-09-23 17:57:57.789998: I tensorflow/core/platform/default/subprocess.cc:304] Start cannot spawn child process: No such file or directory\n",
      "2022-09-23 17:57:57.790053: W tensorflow/stream_executor/gpu/asm_compiler.cc:80] Couldn't get ptxas version string: INTERNAL: Couldn't invoke ptxas --version\n",
      "2022-09-23 17:57:57.791257: I tensorflow/core/platform/default/subprocess.cc:304] Start cannot spawn child process: No such file or directory\n",
      "2022-09-23 17:57:57.791426: W tensorflow/stream_executor/gpu/redzone_allocator.cc:314] INTERNAL: Failed to launch ptxas\n",
      "Relying on driver to perform ptx compilation. \n",
      "Modify $PATH to customize ptxas location.\n",
      "This message will be only logged once.\n"
     ]
    },
    {
     "name": "stdout",
     "output_type": "stream",
     "text": [
      "Count of TILE features:  5168\n"
     ]
    }
   ],
   "source": [
    "features_img_dict = read_pickle(path=os.path.join(base_path, features_path, model_path, dim_path, f\"{model_path}_{dim_path}_img_dict.pkl\"))\n",
    "if features_img_dict is None:    \n",
    "    model = InceptionV3(weights='imagenet', include_top=False, input_shape=(dim,dim,3), pooling='avg')\n",
    "\n",
    "    features_img_dict = {k: image_feature(img=v, model=model)\n",
    "                        for k, v in filtered_img_dict.items()}\n",
    "\n",
    "    write_pickle(path=os.path.join(base_path, features_path, model_path, dim_path, f\"{model_path}_{dim_path}_img_dict.pkl\"), obj=features_img_dict)\n",
    "    print(f\"Count of TILE features:  {len(features_img_dict.items())}\")\n",
    "else:\n",
    "    print(\"Read from Disk\")"
   ]
  },
  {
   "cell_type": "code",
   "execution_count": null,
   "id": "ceed382c-e0a9-4351-adae-70de73b12243",
   "metadata": {},
   "outputs": [],
   "source": [
    "model.summary()"
   ]
  },
  {
   "cell_type": "code",
   "execution_count": 7,
   "id": "78a3ca71-59c6-42aa-8ba7-f35aa6e5e24c",
   "metadata": {},
   "outputs": [],
   "source": [
    "feature_df = pd.DataFrame(data=[{\"Pseudonym\": k[0], \"tile_id\": k[1], \"Features\": v} for k, v in features_img_dict.items()])\n",
    "write_pickle(path=os.path.join(base_path, features_path, model_path, dim_path, f\"{model_path}_{dim_path}_img_df.pkl\"), obj=feature_df)"
   ]
  },
  {
   "cell_type": "code",
   "execution_count": 3,
   "id": "b8a73718-185d-41df-a742-8b81dba70a6b",
   "metadata": {},
   "outputs": [
    {
     "name": "stdout",
     "output_type": "stream",
     "text": [
      "2048\n"
     ]
    }
   ],
   "source": [
    "features_df = read_pickle(path=os.path.join(base_path, features_path, model_path, dim_path, f\"{model_path}_{dim_path}_img_df.pkl\"))\n",
    "features = features_df[\"Features\"].to_list()\n",
    "print(len(features[0]))"
   ]
  }
 ],
 "metadata": {
  "kernelspec": {
   "display_name": "PDAC",
   "language": "python",
   "name": "pdac"
  },
  "language_info": {
   "codemirror_mode": {
    "name": "ipython",
    "version": 3
   },
   "file_extension": ".py",
   "mimetype": "text/x-python",
   "name": "python",
   "nbconvert_exporter": "python",
   "pygments_lexer": "ipython3",
   "version": "3.9.12"
  }
 },
 "nbformat": 4,
 "nbformat_minor": 5
}
