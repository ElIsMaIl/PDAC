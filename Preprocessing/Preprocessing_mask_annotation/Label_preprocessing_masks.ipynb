{
 "cells": [
  {
   "cell_type": "code",
   "execution_count": 12,
   "id": "a8952d70-db7b-4c00-bd9e-5b42af683974",
   "metadata": {},
   "outputs": [],
   "source": [
    "import sys\n",
    "import numpy as np\n",
    "import pandas as pd\n",
    "import cv2\n",
    "import pickle\n",
    "import seaborn as sns\n",
    "import matplotlib.pyplot as plt\n",
    "\n",
    "from os import listdir \n",
    "from os.path import isfile, join\n",
    "from tifffile import imread, imsave\n",
    "from glob import glob\n",
    "\n",
    "np.random.seed(42)\n",
    "\n",
    "\n",
    "import logging\n",
    "logger = logging.getLogger()  # Logger\n",
    "\n",
    "logger.setLevel(\"INFO\")\n",
    "#logging.info(\"Hello\")"
   ]
  },
  {
   "cell_type": "code",
   "execution_count": 2,
   "id": "a34b3e1f-ca1a-44be-b6c8-ff58d109beef",
   "metadata": {},
   "outputs": [],
   "source": [
    "def write_pickle(path, obj):\n",
    "    with open(path, \"wb\") as f:\n",
    "        pickle.dump(obj, f)\n",
    "        \n",
    "def read_pickle(path):\n",
    "    with open(path, \"rb\") as f:\n",
    "        obj = pickle.load(f)\n",
    "    return obj"
   ]
  },
  {
   "cell_type": "code",
   "execution_count": 3,
   "id": "dbe66f09-6495-4b11-a595-e08f23f24b9b",
   "metadata": {},
   "outputs": [],
   "source": [
    "masks_dic = read_pickle(path=\"/mnt/DataRAID/melismail/Preprocessing/data/pickle_data/Preprocessing/filtered_mask_dict.pkl\")\n",
    "df_combined_incept = read_pickle('/mnt/DataRAID/melismail/Preprocessing/data/pickle_data/SVM/df_combined_incept.pkl')"
   ]
  },
  {
   "cell_type": "code",
   "execution_count": 4,
   "id": "3431dad1-5aa9-461c-afbe-f9940250c885",
   "metadata": {},
   "outputs": [],
   "source": [
    "tumor_mask = {key for (key,value) in masks_dic.items() if len(np.where(value == 1)[0]) > 0}"
   ]
  },
  {
   "cell_type": "code",
   "execution_count": 5,
   "id": "46bf34b5-74de-45d2-a3c8-5ad887b57de9",
   "metadata": {},
   "outputs": [],
   "source": [
    "df_masks = pd.DataFrame(tumor_mask)"
   ]
  },
  {
   "cell_type": "code",
   "execution_count": 7,
   "id": "b399b66a-5b3e-4983-b76b-edfb2ec8daf4",
   "metadata": {},
   "outputs": [],
   "source": [
    "df_masks.columns = ['Mask', 'tile']"
   ]
  },
  {
   "cell_type": "code",
   "execution_count": 8,
   "id": "864004c8-c54f-468d-86ee-4d8273fd3035",
   "metadata": {},
   "outputs": [],
   "source": [
    "df_masks['Img'] = df_masks['Mask'] + \"_\" + df_masks['tile'].astype(str)\n",
    "df_masks = df_masks.drop(['Mask', 'tile'], axis=1)\n",
    "df_masks['lbl_mask'] = \"cancer\""
   ]
  },
  {
   "cell_type": "code",
   "execution_count": 11,
   "id": "d3a02443-3ee6-43df-a386-c0a1c0ddf6ea",
   "metadata": {},
   "outputs": [
    {
     "name": "stdout",
     "output_type": "stream",
     "text": [
      "             Img     lbl\n",
      "0  IAA2LDX17_338  cancer\n",
      "1  IEV81RDT6_652  cancer\n",
      "2  18QH2FGR4_585  cancer\n",
      "3  1U76LU6J5_431  cancer\n",
      "4   1C73PUTH4_87  cancer\n"
     ]
    }
   ],
   "source": [
    "print(df_masks.head())"
   ]
  },
  {
   "cell_type": "code",
   "execution_count": 17,
   "id": "eedaeeff-96a7-456f-8289-96a83be7e432",
   "metadata": {},
   "outputs": [
    {
     "data": {
      "text/plain": [
       "0         (18QH2FGR4, 0)\n",
       "1         (18QH2FGR4, 1)\n",
       "2         (18QH2FGR4, 2)\n",
       "3         (18QH2FGR4, 3)\n",
       "4         (18QH2FGR4, 4)\n",
       "              ...       \n",
       "6056    (ILH0VMVF5, 831)\n",
       "6057    (ILH0VMVF5, 832)\n",
       "6058    (ILH0VMVF5, 833)\n",
       "6059    (ILH0VMVF5, 834)\n",
       "6060    (ILH0VMVF5, 835)\n",
       "Name: Img, Length: 6061, dtype: object"
      ]
     },
     "execution_count": 17,
     "metadata": {},
     "output_type": "execute_result"
    }
   ],
   "source": [
    "df_features[\"Img\"]"
   ]
  },
  {
   "cell_type": "code",
   "execution_count": 10,
   "id": "a3e6e924-2670-4205-bb12-2ff357dbf1c0",
   "metadata": {},
   "outputs": [
    {
     "name": "stdout",
     "output_type": "stream",
     "text": [
      "             Img    lbl_mask         lbl  \\\n",
      "0  18QH2FGR4_270  non-cancer  non-cancer   \n",
      "1  18QH2FGR4_324  non-cancer  non-cancer   \n",
      "2  18QH2FGR4_322  non-cancer  non-cancer   \n",
      "3  18QH2FGR4_397  non-cancer  non-cancer   \n",
      "4  18QH2FGR4_436  non-cancer  non-cancer   \n",
      "\n",
      "                                            Features  \n",
      "0  [0.17763883, 0.14930727, 0.099433355, 0.046645...  \n",
      "1  [0.2863244, 0.029040584, 0.13237323, 0.0353634...  \n",
      "2  [0.25656575, 0.19232213, 0.34882596, 0.2506054...  \n",
      "3  [0.07404756, 0.05178327, 0.018168312, 0.131144...  \n",
      "4  [0.10449956, 0.085279934, 0.0015779797, 0.0874...  \n"
     ]
    }
   ],
   "source": [
    "df_combined_incept_tumor = df_masks.merge(df_combined_incept, on='Img', how=\"right\").fillna(\"non-cancer\")\n",
    "print(df_combined_incept_tumor.head())"
   ]
  },
  {
   "cell_type": "code",
   "execution_count": 11,
   "id": "f808ec1b-39e4-44bc-9d36-dac44d6bd1c5",
   "metadata": {},
   "outputs": [
    {
     "data": {
      "image/png": "[encoded data removed]",
      "text/plain": [
       "<Figure size 432x288 with 1 Axes>"
      ]
     },
     "metadata": {
      "needs_background": "light"
     },
     "output_type": "display_data"
    },
    {
     "data": {
      "image/png": "[encoded data removed]",
      "text/plain": [
       "<Figure size 432x288 with 1 Axes>"
      ]
     },
     "metadata": {
      "needs_background": "light"
     },
     "output_type": "display_data"
    }
   ],
   "source": [
    "sns.countplot(data=df_combined_incept_tumor, x=\"lbl_mask\")\n",
    "plt.show()\n",
    "sns.countplot(data=df_combined_incept_tumor, x=\"lbl\")\n",
    "plt.show()"
   ]
  },
  {
   "cell_type": "code",
   "execution_count": 13,
   "id": "c1705837-c277-464e-96bf-95af5ca6de08",
   "metadata": {},
   "outputs": [
    {
     "data": {
      "text/plain": [
       "1093"
      ]
     },
     "execution_count": 13,
     "metadata": {},
     "output_type": "execute_result"
    }
   ],
   "source": [
    "df_combined_incept_tumor[\"same\"] = df_combined_incept_tumor[\"lbl_mask\"] == df_combined_incept_tumor[\"lbl\"]\n",
    "df_combined_incept_tumor[~df_combined_incept_tumor[\"same\"]].shape[0]"
   ]
  },
  {
   "cell_type": "code",
   "execution_count": 14,
   "id": "876137d1-524b-4725-b5ef-c33a15aeacaf",
   "metadata": {},
   "outputs": [],
   "source": [
    "write_pickle(path='/mnt/DataRAID/melismail/Preprocessing/Label_process_patho/df_combined_incept_bothlbl.pkl', obj=df_combined_incept_tumor)"
   ]
  }
 ],
 "metadata": {
  "kernelspec": {
   "display_name": "PDAC",
   "language": "python",
   "name": "pdac"
  },
  "language_info": {
   "codemirror_mode": {
    "name": "ipython",
    "version": 3
   },
   "file_extension": ".py",
   "mimetype": "text/x-python",
   "name": "python",
   "nbconvert_exporter": "python",
   "pygments_lexer": "ipython3",
   "version": "3.9.12"
  }
 },
 "nbformat": 4,
 "nbformat_minor": 5
}
