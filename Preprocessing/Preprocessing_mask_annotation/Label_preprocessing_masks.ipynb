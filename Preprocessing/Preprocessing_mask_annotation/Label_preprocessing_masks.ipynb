{
 "cells": [
  {
   "cell_type": "code",
   "execution_count": 1,
   "id": "a8952d70-db7b-4c00-bd9e-5b42af683974",
   "metadata": {},
   "outputs": [],
   "source": [
    "working_directory = '/mnt/DataRAID/melismail/PDAC'\n",
    "import os\n",
    "os.chdir(working_directory)\n",
    "from pickle_utils import write_pickle, read_pickle\n",
    "\n",
    "import sys, cv2\n",
    "import numpy as np\n",
    "import pandas as pd\n",
    "import seaborn as sns\n",
    "import matplotlib.pyplot as plt\n",
    "\n",
    "from os import listdir \n",
    "from os.path import isfile, join\n",
    "from tifffile import imread, imsave\n",
    "from glob import glob\n",
    "\n",
    "np.random.seed(42)"
   ]
  },
  {
   "cell_type": "code",
   "execution_count": 2,
   "id": "b96fb1f6-450a-482b-82b7-9459603b3adc",
   "metadata": {},
   "outputs": [],
   "source": [
    "base_path = '/mnt/DataRAID/melismail/PDAC/data'\n",
    "masks_path ='Preprocessing_images'\n",
    "filtered_path = 'filtered'\n",
    "dim = 224 #512\n",
    "dim_path = f\"{dim}x{dim}\"\n",
    "preprocessing_path ='Preprocessing_celltypes_annotation'\n",
    "out_path = \"Preprocessing_mask_annotation\"\n",
    "model_path = 'ResNet50' #VGG-16 #InceptionV3"
   ]
  },
  {
   "cell_type": "code",
   "execution_count": 3,
   "id": "dbe66f09-6495-4b11-a595-e08f23f24b9b",
   "metadata": {},
   "outputs": [],
   "source": [
    "filtered_masks_dict = read_pickle(path=os.path.join(base_path, masks_path, filtered_path, dim_path, f\"{filtered_path}_{dim_path}_mask_dict.pkl\"))\n",
    "df_combined = read_pickle(path=os.path.join(base_path, preprocessing_path, model_path, f\"{model_path}_celltypes_lbl_df.pkl\"))"
   ]
  },
  {
   "cell_type": "code",
   "execution_count": 4,
   "id": "3431dad1-5aa9-461c-afbe-f9940250c885",
   "metadata": {},
   "outputs": [],
   "source": [
    "tumor_mask = {key for (key,value) in filtered_masks_dict.items() if len(np.where(value == 1)[0]) > 0}"
   ]
  },
  {
   "cell_type": "code",
   "execution_count": 5,
   "id": "46bf34b5-74de-45d2-a3c8-5ad887b57de9",
   "metadata": {},
   "outputs": [],
   "source": [
    "df_masks = pd.DataFrame(tumor_mask)"
   ]
  },
  {
   "cell_type": "code",
   "execution_count": 6,
   "id": "b399b66a-5b3e-4983-b76b-edfb2ec8daf4",
   "metadata": {},
   "outputs": [],
   "source": [
    "df_masks.columns = ['Pseudonym', 'tile_id']"
   ]
  },
  {
   "cell_type": "code",
   "execution_count": 7,
   "id": "b34612d8-3904-43a5-9edc-ea268cfc65dc",
   "metadata": {},
   "outputs": [
    {
     "data": {
      "text/html": [
       "<div>\n",
       "<style scoped>\n",
       "    .dataframe tbody tr th:only-of-type {\n",
       "        vertical-align: middle;\n",
       "    }\n",
       "\n",
       "    .dataframe tbody tr th {\n",
       "        vertical-align: top;\n",
       "    }\n",
       "\n",
       "    .dataframe thead th {\n",
       "        text-align: right;\n",
       "    }\n",
       "</style>\n",
       "<table border=\"1\" class=\"dataframe\">\n",
       "  <thead>\n",
       "    <tr style=\"text-align: right;\">\n",
       "      <th></th>\n",
       "      <th>Pseudonym</th>\n",
       "      <th>tile_id</th>\n",
       "    </tr>\n",
       "  </thead>\n",
       "  <tbody>\n",
       "    <tr>\n",
       "      <th>0</th>\n",
       "      <td>IEV81RDT6</td>\n",
       "      <td>(35, 42)</td>\n",
       "    </tr>\n",
       "    <tr>\n",
       "      <th>1</th>\n",
       "      <td>IAA2LDX17</td>\n",
       "      <td>(40, 17)</td>\n",
       "    </tr>\n",
       "    <tr>\n",
       "      <th>2</th>\n",
       "      <td>IAA2LDX17</td>\n",
       "      <td>(18, 27)</td>\n",
       "    </tr>\n",
       "    <tr>\n",
       "      <th>3</th>\n",
       "      <td>I3T95PWU4</td>\n",
       "      <td>(13, 22)</td>\n",
       "    </tr>\n",
       "    <tr>\n",
       "      <th>4</th>\n",
       "      <td>IAA2LDX17</td>\n",
       "      <td>(22, 3)</td>\n",
       "    </tr>\n",
       "  </tbody>\n",
       "</table>\n",
       "</div>"
      ],
      "text/plain": [
       "   Pseudonym   tile_id\n",
       "0  IEV81RDT6  (35, 42)\n",
       "1  IAA2LDX17  (40, 17)\n",
       "2  IAA2LDX17  (18, 27)\n",
       "3  I3T95PWU4  (13, 22)\n",
       "4  IAA2LDX17   (22, 3)"
      ]
     },
     "execution_count": 7,
     "metadata": {},
     "output_type": "execute_result"
    }
   ],
   "source": [
    "df_masks.head()"
   ]
  },
  {
   "cell_type": "code",
   "execution_count": 8,
   "id": "864004c8-c54f-468d-86ee-4d8273fd3035",
   "metadata": {},
   "outputs": [],
   "source": [
    "df_masks['lbl_mask'] = \"cancer\""
   ]
  },
  {
   "cell_type": "code",
   "execution_count": 9,
   "id": "788fff30-2b20-4170-b5c2-4ea96488f7da",
   "metadata": {},
   "outputs": [
    {
     "data": {
      "text/html": [
       "<div>\n",
       "<style scoped>\n",
       "    .dataframe tbody tr th:only-of-type {\n",
       "        vertical-align: middle;\n",
       "    }\n",
       "\n",
       "    .dataframe tbody tr th {\n",
       "        vertical-align: top;\n",
       "    }\n",
       "\n",
       "    .dataframe thead th {\n",
       "        text-align: right;\n",
       "    }\n",
       "</style>\n",
       "<table border=\"1\" class=\"dataframe\">\n",
       "  <thead>\n",
       "    <tr style=\"text-align: right;\">\n",
       "      <th></th>\n",
       "      <th>Pseudonym</th>\n",
       "      <th>tile_id</th>\n",
       "      <th>lbl_mask</th>\n",
       "    </tr>\n",
       "  </thead>\n",
       "  <tbody>\n",
       "    <tr>\n",
       "      <th>0</th>\n",
       "      <td>IEV81RDT6</td>\n",
       "      <td>(35, 42)</td>\n",
       "      <td>cancer</td>\n",
       "    </tr>\n",
       "    <tr>\n",
       "      <th>1</th>\n",
       "      <td>IAA2LDX17</td>\n",
       "      <td>(40, 17)</td>\n",
       "      <td>cancer</td>\n",
       "    </tr>\n",
       "    <tr>\n",
       "      <th>2</th>\n",
       "      <td>IAA2LDX17</td>\n",
       "      <td>(18, 27)</td>\n",
       "      <td>cancer</td>\n",
       "    </tr>\n",
       "    <tr>\n",
       "      <th>3</th>\n",
       "      <td>I3T95PWU4</td>\n",
       "      <td>(13, 22)</td>\n",
       "      <td>cancer</td>\n",
       "    </tr>\n",
       "    <tr>\n",
       "      <th>4</th>\n",
       "      <td>IAA2LDX17</td>\n",
       "      <td>(22, 3)</td>\n",
       "      <td>cancer</td>\n",
       "    </tr>\n",
       "  </tbody>\n",
       "</table>\n",
       "</div>"
      ],
      "text/plain": [
       "   Pseudonym   tile_id lbl_mask\n",
       "0  IEV81RDT6  (35, 42)   cancer\n",
       "1  IAA2LDX17  (40, 17)   cancer\n",
       "2  IAA2LDX17  (18, 27)   cancer\n",
       "3  I3T95PWU4  (13, 22)   cancer\n",
       "4  IAA2LDX17   (22, 3)   cancer"
      ]
     },
     "execution_count": 9,
     "metadata": {},
     "output_type": "execute_result"
    }
   ],
   "source": [
    "df_masks.head()"
   ]
  },
  {
   "cell_type": "code",
   "execution_count": 10,
   "id": "7fc6b893-8441-4eb0-87ff-f8c22af3aa05",
   "metadata": {},
   "outputs": [
    {
     "data": {
      "text/html": [
       "<div>\n",
       "<style scoped>\n",
       "    .dataframe tbody tr th:only-of-type {\n",
       "        vertical-align: middle;\n",
       "    }\n",
       "\n",
       "    .dataframe tbody tr th {\n",
       "        vertical-align: top;\n",
       "    }\n",
       "\n",
       "    .dataframe thead th {\n",
       "        text-align: right;\n",
       "    }\n",
       "</style>\n",
       "<table border=\"1\" class=\"dataframe\">\n",
       "  <thead>\n",
       "    <tr style=\"text-align: right;\">\n",
       "      <th></th>\n",
       "      <th>tile_id</th>\n",
       "      <th>Pseudonym</th>\n",
       "      <th>Acinar cells</th>\n",
       "      <th>Alpha cells</th>\n",
       "      <th>B cells</th>\n",
       "      <th>Basal</th>\n",
       "      <th>Beta cells</th>\n",
       "      <th>Classical_CEACAM</th>\n",
       "      <th>Classical_KRT7</th>\n",
       "      <th>Classical_REG4</th>\n",
       "      <th>...</th>\n",
       "      <th>Macrophages_M2</th>\n",
       "      <th>NK cells</th>\n",
       "      <th>Schwann cells</th>\n",
       "      <th>T cells</th>\n",
       "      <th>iCAF</th>\n",
       "      <th>myCAF_ACTA2</th>\n",
       "      <th>myCAF_POSTN</th>\n",
       "      <th>most_prevalent_cancer</th>\n",
       "      <th>Features</th>\n",
       "      <th>lbl</th>\n",
       "    </tr>\n",
       "  </thead>\n",
       "  <tbody>\n",
       "    <tr>\n",
       "      <th>0</th>\n",
       "      <td>(1, 23)</td>\n",
       "      <td>IAA2LDX17</td>\n",
       "      <td>0.0</td>\n",
       "      <td>0.0</td>\n",
       "      <td>0.0</td>\n",
       "      <td>0.0</td>\n",
       "      <td>0.0</td>\n",
       "      <td>1.0</td>\n",
       "      <td>2.0</td>\n",
       "      <td>0.0</td>\n",
       "      <td>...</td>\n",
       "      <td>0.0</td>\n",
       "      <td>0.0</td>\n",
       "      <td>0.0</td>\n",
       "      <td>0.0</td>\n",
       "      <td>0.0</td>\n",
       "      <td>0.0</td>\n",
       "      <td>0.0</td>\n",
       "      <td>Classical_KRT7</td>\n",
       "      <td>[0.0, 0.019234968, 0.018359425, 0.0, 0.0691991...</td>\n",
       "      <td>cancer</td>\n",
       "    </tr>\n",
       "    <tr>\n",
       "      <th>1</th>\n",
       "      <td>(1, 27)</td>\n",
       "      <td>IAA2LDX17</td>\n",
       "      <td>0.0</td>\n",
       "      <td>0.0</td>\n",
       "      <td>1.0</td>\n",
       "      <td>2.0</td>\n",
       "      <td>0.0</td>\n",
       "      <td>8.0</td>\n",
       "      <td>0.0</td>\n",
       "      <td>0.0</td>\n",
       "      <td>...</td>\n",
       "      <td>0.0</td>\n",
       "      <td>0.0</td>\n",
       "      <td>0.0</td>\n",
       "      <td>0.0</td>\n",
       "      <td>0.0</td>\n",
       "      <td>0.0</td>\n",
       "      <td>0.0</td>\n",
       "      <td>Classical_CEACAM</td>\n",
       "      <td>[0.0, 0.0, 0.0, 0.0, 0.0, 0.0, 0.28502965, 0.0...</td>\n",
       "      <td>cancer</td>\n",
       "    </tr>\n",
       "    <tr>\n",
       "      <th>2</th>\n",
       "      <td>(1, 28)</td>\n",
       "      <td>IAA2LDX17</td>\n",
       "      <td>0.0</td>\n",
       "      <td>0.0</td>\n",
       "      <td>1.0</td>\n",
       "      <td>1.0</td>\n",
       "      <td>1.0</td>\n",
       "      <td>12.0</td>\n",
       "      <td>0.0</td>\n",
       "      <td>0.0</td>\n",
       "      <td>...</td>\n",
       "      <td>0.0</td>\n",
       "      <td>2.0</td>\n",
       "      <td>1.0</td>\n",
       "      <td>0.0</td>\n",
       "      <td>0.0</td>\n",
       "      <td>1.0</td>\n",
       "      <td>0.0</td>\n",
       "      <td>Classical_CEACAM</td>\n",
       "      <td>[0.0, 0.007586416, 0.0, 0.0, 0.0, 0.0, 0.22467...</td>\n",
       "      <td>cancer</td>\n",
       "    </tr>\n",
       "    <tr>\n",
       "      <th>3</th>\n",
       "      <td>(1, 29)</td>\n",
       "      <td>IAA2LDX17</td>\n",
       "      <td>1.0</td>\n",
       "      <td>0.0</td>\n",
       "      <td>0.0</td>\n",
       "      <td>1.0</td>\n",
       "      <td>0.0</td>\n",
       "      <td>2.0</td>\n",
       "      <td>0.0</td>\n",
       "      <td>0.0</td>\n",
       "      <td>...</td>\n",
       "      <td>0.0</td>\n",
       "      <td>0.0</td>\n",
       "      <td>0.0</td>\n",
       "      <td>0.0</td>\n",
       "      <td>0.0</td>\n",
       "      <td>1.0</td>\n",
       "      <td>0.0</td>\n",
       "      <td>Classical_TFF1</td>\n",
       "      <td>[0.0, 0.017099166, 0.017997846, 0.0, 0.0, 0.0,...</td>\n",
       "      <td>cancer</td>\n",
       "    </tr>\n",
       "    <tr>\n",
       "      <th>4</th>\n",
       "      <td>(2, 17)</td>\n",
       "      <td>18QH2FGR4</td>\n",
       "      <td>0.0</td>\n",
       "      <td>0.0</td>\n",
       "      <td>0.0</td>\n",
       "      <td>0.0</td>\n",
       "      <td>0.0</td>\n",
       "      <td>0.0</td>\n",
       "      <td>0.0</td>\n",
       "      <td>0.0</td>\n",
       "      <td>...</td>\n",
       "      <td>0.0</td>\n",
       "      <td>0.0</td>\n",
       "      <td>0.0</td>\n",
       "      <td>0.0</td>\n",
       "      <td>0.0</td>\n",
       "      <td>0.0</td>\n",
       "      <td>1.0</td>\n",
       "      <td>Classical_TFF1</td>\n",
       "      <td>[0.00034269172, 0.0, 0.0, 0.0, 0.0, 0.0, 0.286...</td>\n",
       "      <td>cancer</td>\n",
       "    </tr>\n",
       "  </tbody>\n",
       "</table>\n",
       "<p>5 rows × 27 columns</p>\n",
       "</div>"
      ],
      "text/plain": [
       "   tile_id  Pseudonym  Acinar cells  Alpha cells  B cells  Basal  Beta cells  \\\n",
       "0  (1, 23)  IAA2LDX17           0.0          0.0      0.0    0.0         0.0   \n",
       "1  (1, 27)  IAA2LDX17           0.0          0.0      1.0    2.0         0.0   \n",
       "2  (1, 28)  IAA2LDX17           0.0          0.0      1.0    1.0         1.0   \n",
       "3  (1, 29)  IAA2LDX17           1.0          0.0      0.0    1.0         0.0   \n",
       "4  (2, 17)  18QH2FGR4           0.0          0.0      0.0    0.0         0.0   \n",
       "\n",
       "   Classical_CEACAM  Classical_KRT7  Classical_REG4  ...  Macrophages_M2  \\\n",
       "0               1.0             2.0             0.0  ...             0.0   \n",
       "1               8.0             0.0             0.0  ...             0.0   \n",
       "2              12.0             0.0             0.0  ...             0.0   \n",
       "3               2.0             0.0             0.0  ...             0.0   \n",
       "4               0.0             0.0             0.0  ...             0.0   \n",
       "\n",
       "   NK cells  Schwann cells  T cells  iCAF  myCAF_ACTA2  myCAF_POSTN  \\\n",
       "0       0.0            0.0      0.0   0.0          0.0          0.0   \n",
       "1       0.0            0.0      0.0   0.0          0.0          0.0   \n",
       "2       2.0            1.0      0.0   0.0          1.0          0.0   \n",
       "3       0.0            0.0      0.0   0.0          1.0          0.0   \n",
       "4       0.0            0.0      0.0   0.0          0.0          1.0   \n",
       "\n",
       "   most_prevalent_cancer                                           Features  \\\n",
       "0         Classical_KRT7  [0.0, 0.019234968, 0.018359425, 0.0, 0.0691991...   \n",
       "1       Classical_CEACAM  [0.0, 0.0, 0.0, 0.0, 0.0, 0.0, 0.28502965, 0.0...   \n",
       "2       Classical_CEACAM  [0.0, 0.007586416, 0.0, 0.0, 0.0, 0.0, 0.22467...   \n",
       "3         Classical_TFF1  [0.0, 0.017099166, 0.017997846, 0.0, 0.0, 0.0,...   \n",
       "4         Classical_TFF1  [0.00034269172, 0.0, 0.0, 0.0, 0.0, 0.0, 0.286...   \n",
       "\n",
       "      lbl  \n",
       "0  cancer  \n",
       "1  cancer  \n",
       "2  cancer  \n",
       "3  cancer  \n",
       "4  cancer  \n",
       "\n",
       "[5 rows x 27 columns]"
      ]
     },
     "execution_count": 10,
     "metadata": {},
     "output_type": "execute_result"
    }
   ],
   "source": [
    "df_combined.head()"
   ]
  },
  {
   "cell_type": "code",
   "execution_count": 11,
   "id": "a3e6e924-2670-4205-bb12-2ff357dbf1c0",
   "metadata": {},
   "outputs": [
    {
     "name": "stdout",
     "output_type": "stream",
     "text": [
      "   Pseudonym  tile_id    lbl_mask  Acinar cells  Alpha cells  B cells  Basal  \\\n",
      "0  IAA2LDX17  (1, 23)  non-cancer           0.0          0.0      0.0    0.0   \n",
      "1  IAA2LDX17  (1, 27)  non-cancer           0.0          0.0      1.0    2.0   \n",
      "2  IAA2LDX17  (1, 28)  non-cancer           0.0          0.0      1.0    1.0   \n",
      "3  IAA2LDX17  (1, 29)  non-cancer           1.0          0.0      0.0    1.0   \n",
      "4  18QH2FGR4  (2, 17)  non-cancer           0.0          0.0      0.0    0.0   \n",
      "\n",
      "   Beta cells  Classical_CEACAM  Classical_KRT7  ...  Macrophages_M2  \\\n",
      "0         0.0               1.0             2.0  ...             0.0   \n",
      "1         0.0               8.0             0.0  ...             0.0   \n",
      "2         1.0              12.0             0.0  ...             0.0   \n",
      "3         0.0               2.0             0.0  ...             0.0   \n",
      "4         0.0               0.0             0.0  ...             0.0   \n",
      "\n",
      "   NK cells  Schwann cells  T cells  iCAF  myCAF_ACTA2  myCAF_POSTN  \\\n",
      "0       0.0            0.0      0.0   0.0          0.0          0.0   \n",
      "1       0.0            0.0      0.0   0.0          0.0          0.0   \n",
      "2       2.0            1.0      0.0   0.0          1.0          0.0   \n",
      "3       0.0            0.0      0.0   0.0          1.0          0.0   \n",
      "4       0.0            0.0      0.0   0.0          0.0          1.0   \n",
      "\n",
      "   most_prevalent_cancer                                           Features  \\\n",
      "0         Classical_KRT7  [0.0, 0.019234968, 0.018359425, 0.0, 0.0691991...   \n",
      "1       Classical_CEACAM  [0.0, 0.0, 0.0, 0.0, 0.0, 0.0, 0.28502965, 0.0...   \n",
      "2       Classical_CEACAM  [0.0, 0.007586416, 0.0, 0.0, 0.0, 0.0, 0.22467...   \n",
      "3         Classical_TFF1  [0.0, 0.017099166, 0.017997846, 0.0, 0.0, 0.0,...   \n",
      "4         Classical_TFF1  [0.00034269172, 0.0, 0.0, 0.0, 0.0, 0.0, 0.286...   \n",
      "\n",
      "      lbl  \n",
      "0  cancer  \n",
      "1  cancer  \n",
      "2  cancer  \n",
      "3  cancer  \n",
      "4  cancer  \n",
      "\n",
      "[5 rows x 28 columns]\n"
     ]
    }
   ],
   "source": [
    "df_combined_tumor = df_masks.merge(df_combined, on=[\"Pseudonym\", \"tile_id\"], how=\"right\").fillna(\"non-cancer\")\n",
    "print(df_combined_tumor.head())"
   ]
  },
  {
   "cell_type": "code",
   "execution_count": 12,
   "id": "f808ec1b-39e4-44bc-9d36-dac44d6bd1c5",
   "metadata": {},
   "outputs": [
    {
     "name": "stdout",
     "output_type": "stream",
     "text": [
      "non-cancer    9528\n",
      "cancer        2473\n",
      "Name: lbl_mask, dtype: int64\n",
      "non-cancer    9170\n",
      "cancer        2831\n",
      "Name: lbl, dtype: int64\n"
     ]
    },
    {
     "data": {
      "image/png": "[encoded data removed]",
      "text/plain": [
       "<Figure size 432x288 with 1 Axes>"
      ]
     },
     "metadata": {
      "needs_background": "light"
     },
     "output_type": "display_data"
    }
   ],
   "source": [
    "sns.countplot(data=df_combined_tumor, x=\"lbl_mask\")\n",
    "plt.savefig(f\"{model_path}_lbl_mask_classdistribution_count.png\")\n",
    "print(df_combined_tumor[\"lbl_mask\"].value_counts())\n",
    "sns.countplot(data=df_combined_tumor, x=\"lbl\")\n",
    "plt.savefig(f\"{model_path}_lbl_classdistribution_count.png\")\n",
    "print(df_combined_tumor[\"lbl\"].value_counts())"
   ]
  },
  {
   "cell_type": "code",
   "execution_count": 13,
   "id": "c1705837-c277-464e-96bf-95af5ca6de08",
   "metadata": {},
   "outputs": [
    {
     "data": {
      "text/plain": [
       "3978"
      ]
     },
     "execution_count": 13,
     "metadata": {},
     "output_type": "execute_result"
    }
   ],
   "source": [
    "df_combined_tumor[\"same\"] = df_combined_tumor[\"lbl_mask\"] == df_combined_tumor[\"lbl\"]\n",
    "df_combined_tumor[~df_combined_tumor[\"same\"]].shape[0]"
   ]
  },
  {
   "cell_type": "code",
   "execution_count": 14,
   "id": "876137d1-524b-4725-b5ef-c33a15aeacaf",
   "metadata": {},
   "outputs": [],
   "source": [
    "write_pickle(path=os.path.join(base_path, out_path, model_path, f\"{model_path}_celltypes_lbl_df.pkl\"), obj=df_combined_tumor)"
   ]
  }
 ],
 "metadata": {
  "kernelspec": {
   "display_name": "PDAC",
   "language": "python",
   "name": "pdac"
  },
  "language_info": {
   "codemirror_mode": {
    "name": "ipython",
    "version": 3
   },
   "file_extension": ".py",
   "mimetype": "text/x-python",
   "name": "python",
   "nbconvert_exporter": "python",
   "pygments_lexer": "ipython3",
   "version": "3.9.12"
  }
 },
 "nbformat": 4,
 "nbformat_minor": 5
}
