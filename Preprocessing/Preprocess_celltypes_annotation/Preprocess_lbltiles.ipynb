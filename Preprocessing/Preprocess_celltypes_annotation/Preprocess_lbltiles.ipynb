{
 "cells": [
  {
   "cell_type": "code",
   "execution_count": 1,
   "id": "8632a5e4-b6c1-4fb7-961f-59cc39f67114",
   "metadata": {},
   "outputs": [],
   "source": [
    "import sys\n",
    "import numpy as np\n",
    "import pandas as pd\n",
    "import cv2\n",
    "import pickle\n",
    "\n",
    "from os import listdir \n",
    "from os.path import isfile, join\n",
    "from tifffile import imread, imsave\n",
    "from glob import glob\n",
    "\n",
    "np.random.seed(42)\n",
    "\n",
    "\n",
    "import logging\n",
    "logger = logging.getLogger()  # Logger\n",
    "\n",
    "logger.setLevel(\"INFO\")\n",
    "#logging.info(\"Hello\")"
   ]
  },
  {
   "cell_type": "code",
   "execution_count": 2,
   "id": "d25d315e-4f9b-4fac-89e9-3b99db5ed293",
   "metadata": {},
   "outputs": [],
   "source": [
    "def write_pickle(path, obj):\n",
    "    with open(path, \"wb\") as f:\n",
    "        pickle.dump(obj, f)\n",
    "        \n",
    "def read_pickle(path):\n",
    "    with open(path, \"rb\") as f:\n",
    "        obj = pickle.load(f)\n",
    "    return obj"
   ]
  },
  {
   "cell_type": "markdown",
   "id": "1fcdf45c-9344-43c8-aa89-ab1c32d20b1d",
   "metadata": {},
   "source": [
    "Load data"
   ]
  },
  {
   "cell_type": "code",
   "execution_count": 71,
   "id": "9282a803-a41f-4dc3-a8eb-064d182e9c9d",
   "metadata": {},
   "outputs": [],
   "source": []
  },
  {
   "cell_type": "code",
   "execution_count": 56,
   "id": "5cb3b827-2b9b-4bf8-b26c-f38900bbc687",
   "metadata": {},
   "outputs": [
    {
     "name": "stdout",
     "output_type": "stream",
     "text": [
      "Index(['Cartana', 'x', 'y', 'celltypes_fine', 'celltypes_coarse', 'Cartana_x',\n",
      "       'Cartana_y', 'Patient ID', 'Pseudonym'],\n",
      "      dtype='object')\n"
     ]
    }
   ],
   "source": [
    "print(df_labels.columns)"
   ]
  },
  {
   "cell_type": "code",
   "execution_count": 57,
   "id": "324e0c4f-b3fd-4cd6-b33e-101ec75a4ac0",
   "metadata": {},
   "outputs": [
    {
     "name": "stdout",
     "output_type": "stream",
     "text": [
      "['Schwann cells' 'myCAF_POSTN' 'Classical_KRT7' 'Classical_CEACAM'\n",
      " 'Acinar cells' 'T cells' 'Beta cells' 'Basal' 'Classical_TFF1'\n",
      " 'Endothelial cells' 'B cells' 'Ductal cells' 'Macrophages_M2'\n",
      " 'Alpha cells' 'NK cells' 'Delta cells' 'myCAF_ACTA2' 'Dendritic cells'\n",
      " 'iCAF' 'Classical_REG4' 'Macrophages_M1' 'Gamma cells']\n",
      "['Schwann cells' 'Fibroblasts' 'Classical PDAC' 'Acinar cells'\n",
      " 'Lymphocytes' 'Endocrine cells' 'Basal-like PDAC' 'Endothelial cells'\n",
      " 'Ductal cells' 'Macrophages' 'Dendritic cells']\n"
     ]
    }
   ],
   "source": [
    "print(df_labels['celltypes_fine'].unique())\n",
    "print(df_labels['celltypes_coarse'].unique())"
   ]
  },
  {
   "cell_type": "code",
   "execution_count": null,
   "id": "0a62c2a5-202f-4373-9f5e-27cd2ddbc5f5",
   "metadata": {},
   "outputs": [],
   "source": [
    "base_path = '/mnt/DataRAID/melismail/PDAC/data'\n",
    "preprocessing_path ='Preprocessing_images/'\n",
    "img_path = 'images/pdac_he_warped/images'\n",
    "mask_path = 'images/pdac_he_warped/masks'\n",
    "sliced_path = \"sliced\"\n",
    "filtered_path = \"filtered\"\n",
    "scaled_path = \"scaled\"\n",
    "tile_path = \"tiles\"\n",
    "dim = 512\n",
    "dim_path = f\"{dim}x{dim}\""
   ]
  },
  {
   "cell_type": "code",
   "execution_count": null,
   "id": "b8ee1cbe-45a6-4ced-a162-591e983906ac",
   "metadata": {},
   "outputs": [],
   "source": [
    "df_labels = pd.read_csv('/mnt/DataRAID/melismail/Label/labels.csv', sep='\\t')"
   ]
  },
  {
   "cell_type": "code",
   "execution_count": null,
   "id": "612a1164-a61a-4e94-a53e-f51a27092ae5",
   "metadata": {},
   "outputs": [],
   "source": [
    "image_size_dict = {file.split('_')[0]:  cv2.imread(os.path.join(base_path, img_path, file), cv2.COLOR_BGR2RGB).shape\n",
    "                       for file in [f\n",
    "                                    for f in os.listdir(os.path.join(base_path, img_path))\n",
    "                                    if os.path.isfile(os.path.join(base_path, img_path, f)) and \".tif\" in f]\n",
    "                      }"
   ]
  },
  {
   "cell_type": "code",
   "execution_count": null,
   "id": "f9e1c410-bbe5-42b6-8fcb-ea1bd3e91b1b",
   "metadata": {},
   "outputs": [],
   "source": [
    "def find_tile_id(img_dim: tuple(), x:float, y:float, tile_dim: int):\n",
    "    if img_dim is None:\n",
    "        return None\n",
    "    # get point coordinates from csv\n",
    "    x_coord = x//target_dim[0]\n",
    "    y_coord = y//target_dim[1]\n",
    "\n",
    "    #x and y coordinates from orig.image\n",
    "    img_x = (dim[0]//224) + 1\n",
    "    # compute tile\n",
    "    tile = x_coord + img_x * (y_coord-1)\n",
    "    return tile"
   ]
  },
  {
   "cell_type": "code",
   "execution_count": null,
   "id": "8121e463-3279-45b7-89fb-8181872973b8",
   "metadata": {},
   "outputs": [],
   "source": [
    "df_labels[\"tile_id\"] = df_labels.apply(lambda row: find_tile_id(img_dim=img_size_dict.get(row[\"Pseudonym\"], None),\n",
    "                                                              x=row[\"x\"], y=row[\"y\"], tile_dim=dim),\n",
    "                                       axis=1)"
   ]
  },
  {
   "cell_type": "code",
   "execution_count": null,
   "id": "246f256f-7492-49b0-b8de-fafa08ff56f9",
   "metadata": {},
   "outputs": [],
   "source": [
    "df_labels_grouped = df_labels.groupby(by=\"tile_id\")\n"
   ]
  },
  {
   "cell_type": "code",
   "execution_count": 72,
   "id": "3e213e0b-4ba8-49db-a6d0-6fe600d8d393",
   "metadata": {},
   "outputs": [
    {
     "name": "stdout",
     "output_type": "stream",
     "text": [
      "108087    5561.0\n",
      "108088    6189.0\n",
      "108089    8697.0\n",
      "108090    7039.0\n",
      "108091    2308.0\n",
      "           ...  \n",
      "116110    5902.0\n",
      "116111    7974.0\n",
      "116112    6331.0\n",
      "116113    2361.0\n",
      "116114    3236.0\n",
      "Name: x, Length: 8028, dtype: float64\n"
     ]
    }
   ],
   "source": [
    "df_xcoord=df_labels.loc[df_labels['Pseudonym'] == 'IQ5WIKH4I', 'x']\n",
    "print(df_xcoord)"
   ]
  },
  {
   "cell_type": "code",
   "execution_count": 73,
   "id": "348d645d-7386-4dc2-81a3-b94269ff9005",
   "metadata": {},
   "outputs": [
    {
     "name": "stdout",
     "output_type": "stream",
     "text": [
      "108087    5017.0\n",
      "108088    6293.0\n",
      "108089    5249.0\n",
      "108090    5905.0\n",
      "108091    4802.0\n",
      "           ...  \n",
      "116110    6301.0\n",
      "116111    6079.0\n",
      "116112    4313.0\n",
      "116113    2621.0\n",
      "116114    7313.0\n",
      "Name: y, Length: 8028, dtype: float64\n"
     ]
    }
   ],
   "source": [
    "y_lst=list(df_labels.loc[df_labels['Pseudonym'] == 'IQ5WIKH4I', 'y'])\n",
    "print(df_ycoord)"
   ]
  },
  {
   "cell_type": "code",
   "execution_count": 74,
   "id": "d5e03344-d12a-4840-8ba3-21b3dc6eadd2",
   "metadata": {},
   "outputs": [],
   "source": [
    "x_lst = df_xcoord.to_list()"
   ]
  },
  {
   "cell_type": "code",
   "execution_count": 75,
   "id": "080b689c-e395-434a-9632-a19fb21c29a9",
   "metadata": {},
   "outputs": [
    {
     "name": "stdout",
     "output_type": "stream",
     "text": [
      "[5561.0, 6189.0, 8697.0, 7039.0, 2308.0, 4270.0, 6420.0, 3262.0, 8044.0, 4006.0]\n"
     ]
    }
   ],
   "source": [
    "print(x_lst[:10])"
   ]
  },
  {
   "cell_type": "code",
   "execution_count": 76,
   "id": "ab94fe95-7770-4827-a936-abba0f52febf",
   "metadata": {},
   "outputs": [
    {
     "name": "stdout",
     "output_type": "stream",
     "text": [
      "8028\n"
     ]
    }
   ],
   "source": [
    "print(len(x_lst))"
   ]
  },
  {
   "cell_type": "code",
   "execution_count": 77,
   "id": "2a2eba13-533d-4e16-bc95-47ebf3faba3e",
   "metadata": {},
   "outputs": [],
   "source": [
    "y_lst = df_ycoord.to_list()"
   ]
  },
  {
   "cell_type": "code",
   "execution_count": 30,
   "id": "0531615f-a557-49e6-bd36-852ab0cd4b6a",
   "metadata": {},
   "outputs": [
    {
     "name": "stdout",
     "output_type": "stream",
     "text": [
      "[2739.0, 2415.0, 8015.0, 7031.0, 7726.0, 5032.0, 1391.0, 1969.0, 9337.0, 3232.0]\n"
     ]
    }
   ],
   "source": [
    "print(y_lst[:10])"
   ]
  },
  {
   "cell_type": "code",
   "execution_count": 78,
   "id": "3237cbe5-dcae-45dc-a494-17353b9c489d",
   "metadata": {},
   "outputs": [
    {
     "name": "stdout",
     "output_type": "stream",
     "text": [
      "8028\n"
     ]
    }
   ],
   "source": [
    "print(len(y_lst))"
   ]
  },
  {
   "cell_type": "markdown",
   "id": "607ee4b3-e556-48fd-97c6-99209993cc5c",
   "metadata": {},
   "source": [
    "Process data"
   ]
  },
  {
   "cell_type": "code",
   "execution_count": 79,
   "id": "414f0e57-68d1-4eec-aba7-e66095e03043",
   "metadata": {},
   "outputs": [],
   "source": [
    "img = cv2.imread(\"/mnt/DataRAID/melismail/Preprocessing/data/images/IQ5WIKH4I_rgb_warped.tif\", cv2.COLOR_BGR2RGB)\n",
    "dim = img.shape\n",
    "target_dim = (224, 224)\n",
    "tile_lst = []\n",
    "\n",
    "#for img in enumerate(img_list):\n",
    "for x,y in zip(x_lst, y_lst):\n",
    "    #print(x)\n",
    "    #print(y)\n",
    "    \n",
    "    # get point coordinates from csv\n",
    "    x_coord = x//target_dim[0]\n",
    "    #print(x_coord)\n",
    "    y_coord = y//target_dim[1]\n",
    "    #print(y_coord)\n",
    "                \n",
    "    #x and y coordinates from orig.image\n",
    "    img_x = (dim[0]//224) + 1\n",
    "    #img_y = (dim[1]//512) + 1\n",
    "    #print(img_x)\n",
    "    #print(img_y)\n",
    "                \n",
    "    # compute tile\n",
    "    tile = x_coord + img_x * (y_coord-1)\n",
    "    #print(tile) \n",
    "    \n",
    "    tile_lst.append(tile)"
   ]
  },
  {
   "cell_type": "code",
   "execution_count": 80,
   "id": "b835638d-82e9-4c3c-80eb-e1b3bbfd3c58",
   "metadata": {},
   "outputs": [
    {
     "name": "stdout",
     "output_type": "stream",
     "text": [
      "8028\n",
      "[822.0, 1053.0, 874.0, 981.0, 770.0, 703.0, 1130.0, 850.0, 643.0, 473.0]\n"
     ]
    }
   ],
   "source": [
    "print(len(tile_lst))\n",
    "print(tile_lst[:10])"
   ]
  },
  {
   "cell_type": "code",
   "execution_count": 81,
   "id": "94e33fda-679f-455f-a18a-ea3c8cbb66f8",
   "metadata": {},
   "outputs": [
    {
     "name": "stdout",
     "output_type": "stream",
     "text": [
      "108087           Beta cells\n",
      "108088          myCAF_POSTN\n",
      "108089              B cells\n",
      "108090              T cells\n",
      "108091       Macrophages_M2\n",
      "                ...        \n",
      "116110          myCAF_ACTA2\n",
      "116111    Endothelial cells\n",
      "116112         Ductal cells\n",
      "116113          myCAF_ACTA2\n",
      "116114       Classical_KRT7\n",
      "Name: celltypes_fine, Length: 8028, dtype: object\n"
     ]
    }
   ],
   "source": [
    "df_celltypes = df_labels.loc[df_labels['Pseudonym'] == 'IQ5WIKH4I', 'celltypes_fine']\n",
    "print(df_celltypes)"
   ]
  },
  {
   "cell_type": "code",
   "execution_count": 82,
   "id": "2c3fef58-37b4-4733-b90a-a54883867f6c",
   "metadata": {},
   "outputs": [],
   "source": [
    "celltypes_lst = df_celltypes.to_list()"
   ]
  },
  {
   "cell_type": "code",
   "execution_count": 83,
   "id": "35c27848-41b1-4d89-81c9-92eb3d55b58d",
   "metadata": {},
   "outputs": [
    {
     "name": "stdout",
     "output_type": "stream",
     "text": [
      "       tiles  Pseudonym\n",
      "0      822.0  IQ5WIKH4I\n",
      "1     1053.0  IQ5WIKH4I\n",
      "2      874.0  IQ5WIKH4I\n",
      "3      981.0  IQ5WIKH4I\n",
      "4      770.0  IQ5WIKH4I\n",
      "...      ...        ...\n",
      "8023  1052.0  IQ5WIKH4I\n",
      "8024  1023.0  IQ5WIKH4I\n",
      "8025   712.0  IQ5WIKH4I\n",
      "8026   390.0  IQ5WIKH4I\n",
      "8027  1192.0  IQ5WIKH4I\n",
      "\n",
      "[8028 rows x 2 columns]\n"
     ]
    }
   ],
   "source": [
    "df_first = pd.DataFrame(tile_lst, columns=['tiles'])\n",
    "df_first['Pseudonym'] = np.nan\n",
    "df_first['Pseudonym'] = df_first['Pseudonym'].fillna('IQ5WIKH4I')\n",
    "df_first[\"PS\"] = 'IQ5WIKH4I'\n",
    "print(df_first)"
   ]
  },
  {
   "cell_type": "code",
   "execution_count": 84,
   "id": "8a46bac9-79d3-4e65-9cf7-752edf05b332",
   "metadata": {},
   "outputs": [
    {
     "name": "stdout",
     "output_type": "stream",
     "text": [
      "       tiles  Pseudonym          celltypes\n",
      "0      822.0  IQ5WIKH4I         Beta cells\n",
      "1     1053.0  IQ5WIKH4I        myCAF_POSTN\n",
      "2      874.0  IQ5WIKH4I            B cells\n",
      "3      981.0  IQ5WIKH4I            T cells\n",
      "4      770.0  IQ5WIKH4I     Macrophages_M2\n",
      "...      ...        ...                ...\n",
      "8023  1052.0  IQ5WIKH4I        myCAF_ACTA2\n",
      "8024  1023.0  IQ5WIKH4I  Endothelial cells\n",
      "8025   712.0  IQ5WIKH4I       Ductal cells\n",
      "8026   390.0  IQ5WIKH4I        myCAF_ACTA2\n",
      "8027  1192.0  IQ5WIKH4I     Classical_KRT7\n",
      "\n",
      "[8028 rows x 3 columns]\n"
     ]
    }
   ],
   "source": [
    "df_first['celltypes'] = celltypes_lst \n",
    "print(df_first)"
   ]
  },
  {
   "cell_type": "code",
   "execution_count": 85,
   "id": "6d6d3f8c-fa99-4c0d-a1fd-e5b52838f6c7",
   "metadata": {},
   "outputs": [],
   "source": [
    "write_pickle(path='/mnt/DataRAID/melismail/Preprocessing/data/pickle_data/Preprocessing_lbl_tile/224x224/tilecells_tenth.pkl', obj= df_first)"
   ]
  }
 ],
 "metadata": {
  "kernelspec": {
   "display_name": "PDAC",
   "language": "python",
   "name": "pdac"
  },
  "language_info": {
   "codemirror_mode": {
    "name": "ipython",
    "version": 3
   },
   "file_extension": ".py",
   "mimetype": "text/x-python",
   "name": "python",
   "nbconvert_exporter": "python",
   "pygments_lexer": "ipython3",
   "version": "3.9.12"
  }
 },
 "nbformat": 4,
 "nbformat_minor": 5
}
