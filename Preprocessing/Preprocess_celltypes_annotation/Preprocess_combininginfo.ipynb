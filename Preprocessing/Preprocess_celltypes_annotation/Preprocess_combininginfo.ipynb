{
 "cells": [
  {
   "cell_type": "code",
   "execution_count": 1,
   "id": "dea48ff9-b885-4c54-b3b8-8ded6e546b78",
   "metadata": {},
   "outputs": [],
   "source": [
    "import sys\n",
    "import numpy as np\n",
    "import pandas as pd\n",
    "import cv2\n",
    "import pickle\n",
    "import math\n",
    "\n",
    "\n",
    "from os import listdir \n",
    "from os.path import isfile, join\n",
    "from tifffile import imread, imsave\n",
    "from glob import glob\n",
    "\n",
    "np.random.seed(42)\n",
    "\n",
    "\n",
    "import logging\n",
    "logger = logging.getLogger()  # Logger\n",
    "\n",
    "logger.setLevel(\"INFO\")\n",
    "#logging.info(\"Hello\")"
   ]
  },
  {
   "cell_type": "code",
   "execution_count": 2,
   "id": "e983fc64-f8e5-477f-b786-9685d3c4243f",
   "metadata": {},
   "outputs": [],
   "source": [
    "def write_pickle(path, obj):\n",
    "    with open(path, \"wb\") as f:\n",
    "        pickle.dump(obj, f)\n",
    "        \n",
    "def read_pickle(path):\n",
    "    with open(path, \"rb\") as f:\n",
    "        obj = pickle.load(f)\n",
    "    return obj"
   ]
  },
  {
   "cell_type": "code",
   "execution_count": 3,
   "id": "fb46cbcf-1f36-4170-938a-efcf8fcd2118",
   "metadata": {},
   "outputs": [],
   "source": [
    "first = read_pickle(path=\"/mnt/DataRAID/melismail/Preprocessing/data/pickle_data/Preprocessing_lbl_tile/224x224/lbs_first.pkl\")\n",
    "second = read_pickle(path=\"/mnt/DataRAID/melismail/Preprocessing/data/pickle_data/Preprocessing_lbl_tile/224x224/lbs_second.pkl\")\n",
    "third = read_pickle(path=\"/mnt/DataRAID/melismail/Preprocessing/data/pickle_data/Preprocessing_lbl_tile/224x224/lbs_third.pkl\")\n",
    "fourth = read_pickle(path=\"/mnt/DataRAID/melismail/Preprocessing/data/pickle_data/Preprocessing_lbl_tile/224x224/lbs_fourth.pkl\")\n",
    "fifth = read_pickle(path=\"/mnt/DataRAID/melismail/Preprocessing/data/pickle_data/Preprocessing_lbl_tile/224x224/lbs_fifth.pkl\")\n",
    "sixth = read_pickle(path=\"/mnt/DataRAID/melismail/Preprocessing/data/pickle_data/Preprocessing_lbl_tile/224x224/lbs_sixth.pkl\")\n",
    "seventh = read_pickle(path=\"/mnt/DataRAID/melismail/Preprocessing/data/pickle_data/Preprocessing_lbl_tile/224x224/lbs_seventh.pkl\")\n",
    "eigth = read_pickle(path=\"/mnt/DataRAID/melismail/Preprocessing/data/pickle_data/Preprocessing_lbl_tile/224x224/lbs_eigth.pkl\")\n",
    "ninth = read_pickle(path=\"/mnt/DataRAID/melismail/Preprocessing/data/pickle_data/Preprocessing_lbl_tile/224x224/lbs_ninth.pkl\")\n",
    "tenth = read_pickle(path=\"/mnt/DataRAID/melismail/Preprocessing/data/pickle_data/Preprocessing_lbl_tile/224x224/lbs_tenth.pkl\")"
   ]
  },
  {
   "cell_type": "code",
   "execution_count": 4,
   "id": "d3b79c1b-0fc2-4403-a626-70f87d18eb31",
   "metadata": {},
   "outputs": [],
   "source": [
    "features_incept = read_pickle(path=\"/mnt/DataRAID/melismail/Preprocessing/data/pickle_data/FeatureExtraction/features_vgg_without_top_img_df.pkl\")"
   ]
  },
  {
   "cell_type": "code",
   "execution_count": null,
   "id": "703a399f-de82-4762-b716-e3bc09a93a3a",
   "metadata": {},
   "outputs": [],
   "source": [
    "print(first.keys())"
   ]
  },
  {
   "cell_type": "code",
   "execution_count": 5,
   "id": "2d5b7bef-4f52-46bb-b68f-625bac995a4f",
   "metadata": {},
   "outputs": [],
   "source": [
    "df_first = pd.DataFrame(first.items(), columns=['img', 'lbl'])\n",
    "df_second = pd.DataFrame(second.items(), columns=['img', 'lbl'])\n",
    "df_third = pd.DataFrame(third.items(), columns=['img', 'lbl'])\n",
    "df_fourth = pd.DataFrame(fourth.items(), columns=['img', 'lbl'])\n",
    "df_fifth = pd.DataFrame(fifth.items(), columns=['img', 'lbl'])\n",
    "df_sixth = pd.DataFrame(sixth.items(), columns=['img', 'lbl'])\n",
    "df_seventh = pd.DataFrame(seventh.items(), columns=['img', 'lbl'])\n",
    "df_eight = pd.DataFrame(eigth.items(), columns=['img', 'lbl'])\n",
    "df_ninth = pd.DataFrame(ninth.items(), columns=['img', 'lbl'])\n",
    "df_tenth = pd.DataFrame(tenth.items(), columns=['img', 'lbl'])"
   ]
  },
  {
   "cell_type": "code",
   "execution_count": 6,
   "id": "01356a22-7da1-40f0-8fae-9044196572fd",
   "metadata": {},
   "outputs": [],
   "source": [
    "df_combined_lbl = pd.concat([df_first, df_second, df_third, df_fourth, df_fifth, df_sixth, df_seventh, df_eight, df_ninth, df_tenth])"
   ]
  },
  {
   "cell_type": "code",
   "execution_count": 7,
   "id": "677c13d6-5ca4-4fee-a5bb-37de176be358",
   "metadata": {},
   "outputs": [],
   "source": [
    "df_combined_lbl.rename(columns={'img':'Img'}, inplace=True)"
   ]
  },
  {
   "cell_type": "code",
   "execution_count": 8,
   "id": "7c6a8832-44d1-40f6-b135-f32e10f6e10a",
   "metadata": {},
   "outputs": [
    {
     "name": "stdout",
     "output_type": "stream",
     "text": [
      "                Img         lbl\n",
      "0    18QH2FGR4_1429  non-cancer\n",
      "1    18QH2FGR4_1739  non-cancer\n",
      "2    18QH2FGR4_1671      cancer\n",
      "3    18QH2FGR4_2155  non-cancer\n",
      "4    18QH2FGR4_2305  non-cancer\n",
      "..              ...         ...\n",
      "762   IQ5WIKH4I_208      cancer\n",
      "763   IQ5WIKH4I_281  non-cancer\n",
      "764   IQ5WIKH4I_320  non-cancer\n",
      "765   IQ5WIKH4I_206  non-cancer\n",
      "766  IQ5WIKH4I_1081  non-cancer\n",
      "\n",
      "[12922 rows x 2 columns]\n"
     ]
    }
   ],
   "source": [
    "print(df_combined_lbl)"
   ]
  },
  {
   "cell_type": "code",
   "execution_count": 9,
   "id": "af5f96e7-c604-447f-b639-c6cfada204b9",
   "metadata": {},
   "outputs": [],
   "source": [
    "features = features_incept[\"Img\"].to_list()\n",
    "img_lst = []\n",
    "for f in features:\n",
    "    r = '_'.join(map(str,f))\n",
    "    img_lst.append(r)"
   ]
  },
  {
   "cell_type": "code",
   "execution_count": 10,
   "id": "0e4d7fa3-74e1-4037-94a7-c5cb6638712b",
   "metadata": {},
   "outputs": [],
   "source": [
    "features_incept[\"Img\"] = img_lst"
   ]
  },
  {
   "cell_type": "code",
   "execution_count": 11,
   "id": "845db4c1-57fb-47fa-8629-4ea1f6c00fdf",
   "metadata": {},
   "outputs": [
    {
     "name": "stdout",
     "output_type": "stream",
     "text": [
      "                Img                                           Features\n",
      "0       18QH2FGR4_0  [0.0, 0.0, 1.038609, 0.40217385, 0.0, 0.0, 1.6...\n",
      "1       18QH2FGR4_1  [0.0, 0.0, 0.87803453, 0.07146531, 0.0, 0.0, 1...\n",
      "2       18QH2FGR4_2  [0.0, 0.0, 1.0074568, 0.0, 0.0, 0.0, 0.5638169...\n",
      "3       18QH2FGR4_3  [0.0, 0.0, 1.0402813, 0.58489525, 0.0, 0.0, 1....\n",
      "4       18QH2FGR4_4  [0.0, 0.0, 0.4474144, 0.07801977, 0.0, 0.0, 1....\n",
      "...             ...                                                ...\n",
      "6056  ILH0VMVF5_831  [0.0, 0.0, 0.37155667, 0.0, 0.0, 0.0, 0.0, 0.0...\n",
      "6057  ILH0VMVF5_832  [0.0, 0.0, 0.4551359, 0.0, 0.0, 0.0, 0.0, 0.0,...\n",
      "6058  ILH0VMVF5_833  [0.0, 0.0, 0.30545402, 0.0, 0.0, 0.0, 0.0, 0.0...\n",
      "6059  ILH0VMVF5_834  [0.0, 0.0, 0.37944373, 0.0, 0.0, 0.0, 0.0, 0.0...\n",
      "6060  ILH0VMVF5_835  [0.0, 0.0, 0.8443246, 0.0, 0.0, 0.0, 0.2672930...\n",
      "\n",
      "[6061 rows x 2 columns]\n"
     ]
    }
   ],
   "source": [
    "print(features_incept)"
   ]
  },
  {
   "cell_type": "code",
   "execution_count": 12,
   "id": "f785b717-19f5-410e-9c59-a79ed30dd8e9",
   "metadata": {},
   "outputs": [],
   "source": [
    "df_features_added = df_combined_lbl.merge(features_incept, on='Img')"
   ]
  },
  {
   "cell_type": "code",
   "execution_count": 13,
   "id": "cac9276c-3f40-42cf-876f-80e16b15b049",
   "metadata": {},
   "outputs": [
    {
     "name": "stdout",
     "output_type": "stream",
     "text": [
      "                Img         lbl  \\\n",
      "0     18QH2FGR4_482  non-cancer   \n",
      "1     18QH2FGR4_545      cancer   \n",
      "2     1C73PUTH4_332      cancer   \n",
      "3     1C73PUTH4_282      cancer   \n",
      "4     1C73PUTH4_236      cancer   \n",
      "...             ...         ...   \n",
      "1647  ILH0VMVF5_772  non-cancer   \n",
      "1648  ILH0VMVF5_290      cancer   \n",
      "1649  ILH0VMVF5_415      cancer   \n",
      "1650  ILH0VMVF5_406  non-cancer   \n",
      "1651  ILH0VMVF5_787  non-cancer   \n",
      "\n",
      "                                               Features  \n",
      "0     [0.0, 0.0, 0.1527437, 0.0, 0.0, 0.0, 0.0, 0.0,...  \n",
      "1     [0.0, 0.0, 0.41061747, 0.0, 0.0, 0.0, 0.198440...  \n",
      "2     [0.0, 0.0, 1.4059023, 0.0, 0.0, 0.0, 0.1498133...  \n",
      "3     [0.0, 0.0, 0.6184426, 0.0, 0.0, 0.0, 0.0, 0.0,...  \n",
      "4     [0.6306652, 0.0, 0.0, 1.7511798, 0.0, 0.0, 0.8...  \n",
      "...                                                 ...  \n",
      "1647  [0.0, 0.0, 0.42442346, 0.0, 0.0, 0.0, 0.0, 0.0...  \n",
      "1648  [0.0, 0.0, 0.0, 1.5844721, 0.17694479, 0.0, 1....  \n",
      "1649  [0.0, 0.0, 0.0, 0.96226823, 1.0637558, 0.0, 0....  \n",
      "1650  [0.0, 0.0, 0.0, 1.5611832, 0.8549152, 0.0, 0.0...  \n",
      "1651  [0.0, 0.0, 0.2308234, 0.0, 0.0, 0.0, 0.0, 0.0,...  \n",
      "\n",
      "[1652 rows x 3 columns]\n"
     ]
    }
   ],
   "source": [
    "print(df_features_added)"
   ]
  },
  {
   "cell_type": "code",
   "execution_count": 14,
   "id": "b3f0c1dc-f504-4393-be33-bc7e3bb66d2d",
   "metadata": {},
   "outputs": [],
   "source": [
    "write_pickle(path='/mnt/DataRAID/melismail/Preprocessing/data/pickle_data/df_combined_vgg.pkl', obj=df_features_added)"
   ]
  }
 ],
 "metadata": {
  "kernelspec": {
   "display_name": "PDAC",
   "language": "python",
   "name": "pdac"
  },
  "language_info": {
   "codemirror_mode": {
    "name": "ipython",
    "version": 3
   },
   "file_extension": ".py",
   "mimetype": "text/x-python",
   "name": "python",
   "nbconvert_exporter": "python",
   "pygments_lexer": "ipython3",
   "version": "3.9.12"
  }
 },
 "nbformat": 4,
 "nbformat_minor": 5
}
