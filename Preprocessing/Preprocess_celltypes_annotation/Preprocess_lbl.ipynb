{
 "cells": [
  {
   "cell_type": "code",
   "execution_count": 1,
   "id": "3bb5ef87-b4b7-47e6-a727-23f59661dda3",
   "metadata": {},
   "outputs": [],
   "source": [
    "import sys\n",
    "import numpy as np\n",
    "import pandas as pd\n",
    "import cv2\n",
    "import pickle\n",
    "\n",
    "from os import listdir \n",
    "from os.path import isfile, join\n",
    "from tifffile import imread, imsave\n",
    "from glob import glob\n",
    "\n",
    "np.random.seed(42)\n",
    "\n",
    "\n",
    "import logging\n",
    "logger = logging.getLogger()  # Logger\n",
    "\n",
    "logger.setLevel(\"INFO\")\n",
    "#logging.info(\"Hello\")"
   ]
  },
  {
   "cell_type": "code",
   "execution_count": 2,
   "id": "02b7b0ae-7699-42e7-8809-d711bd14957c",
   "metadata": {},
   "outputs": [],
   "source": [
    "def write_pickle(path, obj):\n",
    "    with open(path, \"wb\") as f:\n",
    "        pickle.dump(obj, f)\n",
    "        \n",
    "def read_pickle(path):\n",
    "    with open(path, \"rb\") as f:\n",
    "        obj = pickle.load(f)\n",
    "    return obj"
   ]
  },
  {
   "cell_type": "code",
   "execution_count": 208,
   "id": "f217e9c3-ca74-4882-a20b-518273383b62",
   "metadata": {},
   "outputs": [],
   "source": [
    "first = read_pickle(path=\"/mnt/DataRAID/melismail/Preprocessing/data/pickle_data/Preprocessing_lbl_tile/512x512/tilecells_tenth.pkl\")"
   ]
  },
  {
   "cell_type": "code",
   "execution_count": 209,
   "id": "f2bbfd3e-c19a-4c02-a1b1-e66445f2b944",
   "metadata": {},
   "outputs": [
    {
     "name": "stdout",
     "output_type": "stream",
     "text": [
      "      tiles  Pseudonym          celltypes\n",
      "0     146.0  IQ5WIKH4I         Beta cells\n",
      "1     199.0  IQ5WIKH4I        myCAF_POSTN\n",
      "2     169.0  IQ5WIKH4I            B cells\n",
      "3     183.0  IQ5WIKH4I            T cells\n",
      "4     140.0  IQ5WIKH4I     Macrophages_M2\n",
      "...     ...        ...                ...\n",
      "8023  198.0  IQ5WIKH4I        myCAF_ACTA2\n",
      "8024  185.0  IQ5WIKH4I  Endothelial cells\n",
      "8025  131.0  IQ5WIKH4I       Ductal cells\n",
      "8026   72.0  IQ5WIKH4I        myCAF_ACTA2\n",
      "8027  227.0  IQ5WIKH4I     Classical_KRT7\n",
      "\n",
      "[8028 rows x 3 columns]\n"
     ]
    }
   ],
   "source": [
    "print(first)"
   ]
  },
  {
   "cell_type": "code",
   "execution_count": 210,
   "id": "e82a06be-a5cb-46bf-aece-6e9592f5aaf2",
   "metadata": {},
   "outputs": [],
   "source": [
    "img = first[\"tiles\"].to_list()\n",
    "img_lst = []\n",
    "\n",
    "for i in img:\n",
    "    r = int(i)\n",
    "    t = str(r)\n",
    "    img_lst.append(t)"
   ]
  },
  {
   "cell_type": "code",
   "execution_count": 211,
   "id": "cdcf5339-183d-4620-ac18-84507efe8c6f",
   "metadata": {},
   "outputs": [],
   "source": [
    "first[\"tiles\"] = img_lst"
   ]
  },
  {
   "cell_type": "code",
   "execution_count": 212,
   "id": "0969bb31-7c25-4cee-ba64-7665f0c9f6a0",
   "metadata": {},
   "outputs": [],
   "source": [
    "first[\"img\"] = first[\"Pseudonym\"] + \"_\" + first[\"tiles\"]"
   ]
  },
  {
   "cell_type": "code",
   "execution_count": 185,
   "id": "347716a8-2999-4042-9e81-d8e9e1ae7cbd",
   "metadata": {},
   "outputs": [],
   "source": [
    "#first[\"label\"] = np.where((first[\"celltypes\"] == 'Basal') | (first[\"celltypes\"].str.contains('Classical')), \"cancer\", \"non-cancer\")"
   ]
  },
  {
   "cell_type": "code",
   "execution_count": 213,
   "id": "92e604a1-109c-450c-9341-0a5ca8c44efe",
   "metadata": {},
   "outputs": [],
   "source": [
    "first[\"label\"] = np.where((first[\"celltypes\"] == 'Basal'), 'Basal',\n",
    "                           np.where((first[\"celltypes\"] == 'Classical_KRT7'), 'Classical_KRT7',\n",
    "                                     np.where((first[\"celltypes\"] == 'Classical_CEACAM'), 'Classical_CEACAM',\n",
    "                                               np.where((first[\"celltypes\"] == 'Classical_TFF1'), 'Classical_TFF1',\n",
    "                                                         np.where((first[\"celltypes\"] == 'Classical_REG4'), 'Classical_REG4',\n",
    "                                                                 'non-cancer')))))    "
   ]
  },
  {
   "cell_type": "code",
   "execution_count": null,
   "id": "1f489bca-760d-4042-b520-2e8711c8085c",
   "metadata": {},
   "outputs": [],
   "source": [
    "label_dict = {\"Basal\": \"Basal\", \"Classical_KRT7\": \"Classical_KRT7\", \"Classical_CEACAM\": \"Classical_CEACAM\", \"Classical_TFF1\": \"Classical_TFF1\", \"Classical_REG4\": \"Classical_REG4\"}\n",
    "first[\"label\"] = first.apply(lambda x: label_dict.get(x[\"celltypes\"], \"non-cancer\"), axis=1)"
   ]
  },
  {
   "cell_type": "code",
   "execution_count": 214,
   "id": "80da5c24-48d3-416d-a153-465290cf4b49",
   "metadata": {},
   "outputs": [
    {
     "name": "stdout",
     "output_type": "stream",
     "text": [
      "     tiles  Pseudonym          celltypes            img           label\n",
      "0      146  IQ5WIKH4I         Beta cells  IQ5WIKH4I_146      non-cancer\n",
      "1      199  IQ5WIKH4I        myCAF_POSTN  IQ5WIKH4I_199      non-cancer\n",
      "2      169  IQ5WIKH4I            B cells  IQ5WIKH4I_169      non-cancer\n",
      "3      183  IQ5WIKH4I            T cells  IQ5WIKH4I_183      non-cancer\n",
      "4      140  IQ5WIKH4I     Macrophages_M2  IQ5WIKH4I_140      non-cancer\n",
      "...    ...        ...                ...            ...             ...\n",
      "8023   198  IQ5WIKH4I        myCAF_ACTA2  IQ5WIKH4I_198      non-cancer\n",
      "8024   185  IQ5WIKH4I  Endothelial cells  IQ5WIKH4I_185      non-cancer\n",
      "8025   131  IQ5WIKH4I       Ductal cells  IQ5WIKH4I_131      non-cancer\n",
      "8026    72  IQ5WIKH4I        myCAF_ACTA2   IQ5WIKH4I_72      non-cancer\n",
      "8027   227  IQ5WIKH4I     Classical_KRT7  IQ5WIKH4I_227  Classical_KRT7\n",
      "\n",
      "[8028 rows x 5 columns]\n"
     ]
    }
   ],
   "source": [
    "print(first)"
   ]
  },
  {
   "cell_type": "code",
   "execution_count": 215,
   "id": "879a91a8-e011-4ca2-89dc-de7b3b01eb7a",
   "metadata": {},
   "outputs": [],
   "source": [
    "tiles = first[\"img\"].to_list()\n",
    "res = {}\n",
    "for tile in tiles:\n",
    "    t = first[first[\"img\"]==tile]\n",
    "    r = t[\"label\"].to_list()\n",
    "    r = max(set(r), key=r.count)\n",
    "    #print(t)\n",
    "    #print(r)\n",
    "    res[tile] = r\n",
    "    #break"
   ]
  },
  {
   "cell_type": "code",
   "execution_count": 216,
   "id": "585be688-778e-40ff-8b57-e8d2ef5c759a",
   "metadata": {},
   "outputs": [],
   "source": [
    "write_pickle(path='/mnt/DataRAID/melismail/Preprocessing/data/pickle_data/Preprocessing_lbl_tile/512x512/lbs_tenth_6class.pkl', obj = res)"
   ]
  }
 ],
 "metadata": {
  "kernelspec": {
   "display_name": "PDAC",
   "language": "python",
   "name": "pdac"
  },
  "language_info": {
   "codemirror_mode": {
    "name": "ipython",
    "version": 3
   },
   "file_extension": ".py",
   "mimetype": "text/x-python",
   "name": "python",
   "nbconvert_exporter": "python",
   "pygments_lexer": "ipython3",
   "version": "3.9.12"
  }
 },
 "nbformat": 4,
 "nbformat_minor": 5
}
