{
 "cells": [
  {
   "cell_type": "code",
   "execution_count": 1,
   "id": "55b71027-ee0c-4b0f-9a26-817ba0887330",
   "metadata": {},
   "outputs": [],
   "source": [
    "import os \n",
    "import pandas as pd\n",
    "import numpy as nmp"
   ]
  },
  {
   "cell_type": "code",
   "execution_count": 2,
   "id": "29121db7-1608-4b42-b07e-94904d3eb537",
   "metadata": {},
   "outputs": [],
   "source": [
    "base_path = '/mnt/DataRAID/melismail/PDAC/data'\n",
    "preprocessing_path ='Preprocessing_celltypes_annotation'"
   ]
  },
  {
   "cell_type": "markdown",
   "id": "3932e8b0-0fe6-4cce-a55b-18650e4a5a76",
   "metadata": {},
   "source": [
    "Load csv files"
   ]
  },
  {
   "cell_type": "code",
   "execution_count": 3,
   "id": "c75789e2-55cb-4b7d-a4de-2cbc9776618e",
   "metadata": {},
   "outputs": [],
   "source": [
    "df_coordinates = pd.read_csv(os.path.join(base_path, preprocessing_path, f\"allPatients_positions.csv\"), sep=',')\n",
    "df_annotation =  pd.read_csv(os.path.join(base_path, preprocessing_path, f\"celltype_annotation.csv\"), sep=',')\n",
    "df_pathID = pd.read_csv(os.path.join(base_path, preprocessing_path, f\"patID_pseud.csv\"), sep=',')"
   ]
  },
  {
   "cell_type": "markdown",
   "id": "f1c8e9cd-4e40-4ef8-85a1-a90655688fc9",
   "metadata": {},
   "source": [
    "Process dataframes"
   ]
  },
  {
   "cell_type": "code",
   "execution_count": 4,
   "id": "c93ed87e-8d1f-42a6-a45d-ee357748e15b",
   "metadata": {},
   "outputs": [
    {
     "name": "stdout",
     "output_type": "stream",
     "text": [
      "Index(['Unnamed: 0', '0', '1'], dtype='object')\n"
     ]
    },
    {
     "data": {
      "text/html": [
       "<div>\n",
       "<style scoped>\n",
       "    .dataframe tbody tr th:only-of-type {\n",
       "        vertical-align: middle;\n",
       "    }\n",
       "\n",
       "    .dataframe tbody tr th {\n",
       "        vertical-align: top;\n",
       "    }\n",
       "\n",
       "    .dataframe thead th {\n",
       "        text-align: right;\n",
       "    }\n",
       "</style>\n",
       "<table border=\"1\" class=\"dataframe\">\n",
       "  <thead>\n",
       "    <tr style=\"text-align: right;\">\n",
       "      <th></th>\n",
       "      <th>Unnamed: 0</th>\n",
       "      <th>0</th>\n",
       "      <th>1</th>\n",
       "    </tr>\n",
       "  </thead>\n",
       "  <tbody>\n",
       "    <tr>\n",
       "      <th>0</th>\n",
       "      <td>7-0</td>\n",
       "      <td>10623.706114</td>\n",
       "      <td>19271.727153</td>\n",
       "    </tr>\n",
       "    <tr>\n",
       "      <th>1</th>\n",
       "      <td>31-0</td>\n",
       "      <td>12858.731325</td>\n",
       "      <td>17255.541654</td>\n",
       "    </tr>\n",
       "    <tr>\n",
       "      <th>2</th>\n",
       "      <td>51-0</td>\n",
       "      <td>12293.119361</td>\n",
       "      <td>14888.806039</td>\n",
       "    </tr>\n",
       "    <tr>\n",
       "      <th>3</th>\n",
       "      <td>53-0</td>\n",
       "      <td>15802.631312</td>\n",
       "      <td>5829.612190</td>\n",
       "    </tr>\n",
       "    <tr>\n",
       "      <th>4</th>\n",
       "      <td>54-0</td>\n",
       "      <td>16594.302945</td>\n",
       "      <td>16868.011220</td>\n",
       "    </tr>\n",
       "    <tr>\n",
       "      <th>...</th>\n",
       "      <td>...</td>\n",
       "      <td>...</td>\n",
       "      <td>...</td>\n",
       "    </tr>\n",
       "    <tr>\n",
       "      <th>116110</th>\n",
       "      <td>76467-9</td>\n",
       "      <td>12601.735103</td>\n",
       "      <td>11803.529204</td>\n",
       "    </tr>\n",
       "    <tr>\n",
       "      <th>116111</th>\n",
       "      <td>76506-9</td>\n",
       "      <td>12157.653078</td>\n",
       "      <td>15946.948841</td>\n",
       "    </tr>\n",
       "    <tr>\n",
       "      <th>116112</th>\n",
       "      <td>76749-9</td>\n",
       "      <td>8624.668421</td>\n",
       "      <td>12661.034211</td>\n",
       "    </tr>\n",
       "    <tr>\n",
       "      <th>116113</th>\n",
       "      <td>76796-9</td>\n",
       "      <td>5241.016736</td>\n",
       "      <td>4720.960323</td>\n",
       "    </tr>\n",
       "    <tr>\n",
       "      <th>116114</th>\n",
       "      <td>76863-9</td>\n",
       "      <td>14625.666197</td>\n",
       "      <td>6470.794366</td>\n",
       "    </tr>\n",
       "  </tbody>\n",
       "</table>\n",
       "<p>116115 rows × 3 columns</p>\n",
       "</div>"
      ],
      "text/plain": [
       "       Unnamed: 0             0             1\n",
       "0             7-0  10623.706114  19271.727153\n",
       "1            31-0  12858.731325  17255.541654\n",
       "2            51-0  12293.119361  14888.806039\n",
       "3            53-0  15802.631312   5829.612190\n",
       "4            54-0  16594.302945  16868.011220\n",
       "...           ...           ...           ...\n",
       "116110    76467-9  12601.735103  11803.529204\n",
       "116111    76506-9  12157.653078  15946.948841\n",
       "116112    76749-9   8624.668421  12661.034211\n",
       "116113    76796-9   5241.016736   4720.960323\n",
       "116114    76863-9  14625.666197   6470.794366\n",
       "\n",
       "[116115 rows x 3 columns]"
      ]
     },
     "execution_count": 4,
     "metadata": {},
     "output_type": "execute_result"
    }
   ],
   "source": [
    "print(df_coordinates.columns)\n",
    "df_coordinates"
   ]
  },
  {
   "cell_type": "code",
   "execution_count": 5,
   "id": "a8fba392-c09f-445e-8ac2-856372eab147",
   "metadata": {},
   "outputs": [],
   "source": [
    "df_coordinates.rename(columns = {'Unnamed: 0':'Cartana', '0':'y', '1':'x'}, inplace=True)\n",
    "df_coordinates = df_coordinates.iloc[:, [0,2,1]]"
   ]
  },
  {
   "cell_type": "code",
   "execution_count": 6,
   "id": "5320635b-8724-45ff-9f84-ccb53b5fdcae",
   "metadata": {},
   "outputs": [],
   "source": [
    "df_coordinates['x'] = nmp.ceil(df_coordinates['x']/2)\n",
    "df_coordinates['y'] = nmp.ceil(df_coordinates['y']/2)"
   ]
  },
  {
   "cell_type": "code",
   "execution_count": 7,
   "id": "3a54295a-a893-48e1-8f17-c4a317bdbe5a",
   "metadata": {},
   "outputs": [
    {
     "name": "stdout",
     "output_type": "stream",
     "text": [
      "<class 'numpy.float64'>\n"
     ]
    }
   ],
   "source": [
    "print(type(df_coordinates['x'][0]))"
   ]
  },
  {
   "cell_type": "code",
   "execution_count": 8,
   "id": "09a5bb22-37bd-4021-ba57-a3f59ab5a732",
   "metadata": {},
   "outputs": [],
   "source": [
    "#df_coordinates[['Cartana_x', 'Cartana_y']] = df_coordinates['Cartana'].str.split('-', expand=True)\n",
    "#df_temp = df_coordinates['Cartana'].str.split('-', expand=True)"
   ]
  },
  {
   "cell_type": "code",
   "execution_count": 9,
   "id": "823d25d1-45f6-41d7-8aa1-7889b5b7183c",
   "metadata": {},
   "outputs": [],
   "source": [
    "df_annotation.rename(columns = {'Unnamed: 0': 'Cartana'}, inplace=True)"
   ]
  },
  {
   "cell_type": "code",
   "execution_count": 10,
   "id": "6c4da5c7-64d4-48ca-999d-fd2fc0fc3753",
   "metadata": {},
   "outputs": [],
   "source": [
    "df_pathID.rename(columns = {'Unnamed: 0': 'Cartana_y'}, inplace=True)"
   ]
  },
  {
   "cell_type": "markdown",
   "id": "390a3058-fded-483b-8c30-f6f486ee535d",
   "metadata": {},
   "source": [
    "Merge dataframe"
   ]
  },
  {
   "cell_type": "code",
   "execution_count": 11,
   "id": "590cd25f-b1f7-418c-906c-06d462f8b184",
   "metadata": {},
   "outputs": [],
   "source": [
    "df_merged_coord_ann = pd.merge(df_coordinates, df_annotation, on='Cartana')"
   ]
  },
  {
   "cell_type": "code",
   "execution_count": 12,
   "id": "0ac2dc6d-9a7b-4e26-860f-bf81e8e5e14b",
   "metadata": {},
   "outputs": [],
   "source": [
    "df_merged_coord_ann[['Cartana_x', 'Cartana_y']] = df_merged_coord_ann['Cartana'].str.split('-', expand=True)"
   ]
  },
  {
   "cell_type": "code",
   "execution_count": 13,
   "id": "2b46a6e5-22c0-4cf9-b39b-1149af3ab5d7",
   "metadata": {},
   "outputs": [],
   "source": [
    "df_merged_coord_ann['Cartana_y'] = df_merged_coord_ann['Cartana_y'].astype(int)"
   ]
  },
  {
   "cell_type": "code",
   "execution_count": 14,
   "id": "7e54bf03-85e0-4701-8224-77ada423365e",
   "metadata": {},
   "outputs": [],
   "source": [
    "df_labels = pd.merge(df_merged_coord_ann, df_pathID, on='Cartana_y')"
   ]
  },
  {
   "cell_type": "code",
   "execution_count": 15,
   "id": "21b24bd6-1c9b-4d2b-a4dc-bda91d7629f0",
   "metadata": {},
   "outputs": [
    {
     "name": "stdout",
     "output_type": "stream",
     "text": [
      "  Cartana       x       y  celltypes_fine celltypes_coarse Cartana_x  \\\n",
      "0     7-0  9636.0  5312.0   Schwann cells    Schwann cells         7   \n",
      "1    31-0  8628.0  6430.0     myCAF_POSTN      Fibroblasts        31   \n",
      "2    51-0  7445.0  6147.0  Classical_KRT7   Classical PDAC        51   \n",
      "3    53-0  2915.0  7902.0  Classical_KRT7   Classical PDAC        53   \n",
      "4    54-0  8435.0  8298.0     myCAF_POSTN      Fibroblasts        54   \n",
      "\n",
      "   Cartana_y  Patient ID  Pseudonym  \n",
      "0          0           1  18QH2FGR4  \n",
      "1          0           1  18QH2FGR4  \n",
      "2          0           1  18QH2FGR4  \n",
      "3          0           1  18QH2FGR4  \n",
      "4          0           1  18QH2FGR4  \n"
     ]
    }
   ],
   "source": [
    "print(df_labels.head())"
   ]
  },
  {
   "cell_type": "code",
   "execution_count": 16,
   "id": "6f38ed74-5d2a-4ed2-9c86-8dac9a37edb5",
   "metadata": {},
   "outputs": [],
   "source": [
    "df_labels.to_csv(os.path.join(base_path, preprocessing_path, f\"combined_info_celltypes.csv\"), sep='\\t', index=False)"
   ]
  },
  {
   "cell_type": "code",
   "execution_count": 17,
   "id": "a49db9e7-757e-47b2-b4b0-52c661a16e97",
   "metadata": {},
   "outputs": [
    {
     "data": {
      "text/plain": [
       "array(['Schwann cells', 'myCAF_POSTN', 'Classical_KRT7',\n",
       "       'Classical_CEACAM', 'Acinar cells', 'T cells', 'Beta cells',\n",
       "       'Basal', 'Classical_TFF1', 'Endothelial cells', 'B cells',\n",
       "       'Ductal cells', 'Macrophages_M2', 'Alpha cells', 'NK cells',\n",
       "       'Delta cells', 'myCAF_ACTA2', 'Dendritic cells', 'iCAF',\n",
       "       'Classical_REG4', 'Macrophages_M1', 'Gamma cells'], dtype=object)"
      ]
     },
     "execution_count": 17,
     "metadata": {},
     "output_type": "execute_result"
    }
   ],
   "source": [
    "df_labels['celltypes_fine'].unique()"
   ]
  },
  {
   "cell_type": "code",
   "execution_count": 18,
   "id": "b1077cae-f424-4c36-a0a9-42a131e9a5e7",
   "metadata": {},
   "outputs": [
    {
     "data": {
      "text/plain": [
       "array(['Schwann cells', 'Fibroblasts', 'Classical PDAC', 'Acinar cells',\n",
       "       'Lymphocytes', 'Endocrine cells', 'Basal-like PDAC',\n",
       "       'Endothelial cells', 'Ductal cells', 'Macrophages',\n",
       "       'Dendritic cells'], dtype=object)"
      ]
     },
     "execution_count": 18,
     "metadata": {},
     "output_type": "execute_result"
    }
   ],
   "source": [
    "df_labels['celltypes_coarse'].unique()"
   ]
  }
 ],
 "metadata": {
  "kernelspec": {
   "display_name": "PDAC",
   "language": "python",
   "name": "pdac"
  },
  "language_info": {
   "codemirror_mode": {
    "name": "ipython",
    "version": 3
   },
   "file_extension": ".py",
   "mimetype": "text/x-python",
   "name": "python",
   "nbconvert_exporter": "python",
   "pygments_lexer": "ipython3",
   "version": "3.9.12"
  }
 },
 "nbformat": 4,
 "nbformat_minor": 5
}
