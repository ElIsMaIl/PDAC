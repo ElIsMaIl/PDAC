{
 "cells": [
  {
   "cell_type": "code",
   "execution_count": 1,
   "metadata": {},
   "outputs": [],
   "source": [
    "import numpy as np\n",
    "import datetime, os, cv2, pickle, sys\n",
    "\n",
    "\n",
    "from tifffile import imread"
   ]
  },
  {
   "cell_type": "code",
   "execution_count": 2,
   "metadata": {},
   "outputs": [],
   "source": [
    "def write_pickle(path, obj):\n",
    "    with open(path, \"wb\") as f:\n",
    "        pickle.dump(obj, f)\n",
    "        \n",
    "def read_pickle(path):\n",
    "    if not os.path.isfile(path):\n",
    "        print(f\"path did not exist: {path}\")\n",
    "        return None\n",
    "    with open(path, \"rb\") as f:\n",
    "        obj = pickle.load(f)\n",
    "    return obj"
   ]
  },
  {
   "cell_type": "code",
   "execution_count": 3,
   "metadata": {},
   "outputs": [],
   "source": [
    "base_path = '/mnt/DataRAID/melismail/PDAC/data'\n",
    "preprocessing_path ='Preprocessing_images'\n",
    "img_path = 'images/pdac_he_warped/images'\n",
    "mask_path = 'images/pdac_he_warped/masks'\n",
    "sliced_path = \"sliced\"\n",
    "filtered_path = \"filtered\"\n",
    "scaled_path = \"scaled\"\n",
    "tile_path = \"tiles\"\n",
    "dim = 512\n",
    "dim_path = f\"{dim}x{dim}\""
   ]
  },
  {
   "cell_type": "markdown",
   "metadata": {},
   "source": [
    "Preprocessing functions"
   ]
  },
  {
   "cell_type": "markdown",
   "metadata": {},
   "source": [
    "Slice function - slices the raw input image into desired shape, therefore change tuple in target_dimension"
   ]
  },
  {
   "cell_type": "code",
   "execution_count": 4,
   "metadata": {},
   "outputs": [],
   "source": [
    "def img_Sliced(img, target_dimension: tuple):\n",
    "    dim = img.shape\n",
    "    #print(dim)\n",
    "    #print(dim[0]//target_dimension[0], dim[1]//target_dimension[1])\n",
    "    imgs_sliced = []\n",
    "    #for (x_offset, y_offset) in [(0, 0), (int(target_dimension[0]/2), 0), (0, int(target_dimension[1]/2)), (int(target_dimension[0]/2), int(target_dimension[1]/2))]:\n",
    "    #for (x_offset, y_offset) in [(0, 0)]:\n",
    "        #logging.info(f\"file: {file}, x_offset: {x_offset}, y_offset: {y_offset}\")\n",
    "    for x in range(dim[0]//target_dimension[0]+1):\n",
    "        for y in range(dim[1]//target_dimension[1]+1):\n",
    "            \n",
    "            \n",
    "            #print(\"Obere Ecke\", x, y, dim[0]//target_dimension[0], dim[1]//target_dimension[1])\n",
    "            if x == (dim[0]//target_dimension[0]):\n",
    "                if y == (dim[1]//target_dimension[1]):\n",
    "                    imgs_sliced.append(img[x*target_dimension[0]: dim[0], y*target_dimension[1]: dim[1]])\n",
    "                   #print(\"Ecke\", x*target_dimension[0], dim[0], y*target_dimension[1], dim[1]##)\n",
    "                    continue\n",
    "                imgs_sliced.append(img[x*target_dimension[0]: dim[0], y*target_dimension[1]: (y+1)*target_dimension[1]])\n",
    "                #peinr([\"Unten\",x*target_dimension[0], dim[0], y*target_dimension[1], (y+1)*target_dimension[1]])\n",
    "            elif y == (dim[1]//target_dimension[1]):\n",
    "                imgs_sliced.append(img[x*target_dimension[0]: (x+1)*target_dimension[0], y*target_dimension[1]: dim[1]])\n",
    "                #print(\"Rechts\", x*target_dimension[0], (x+1)*target_dimension[0], y*target_dimension[1], dim[1])\n",
    "            else:\n",
    "                imgs_sliced.append(img[x*target_dimension[0]: (x+1)*target_dimension[0], y*target_dimension[1]: (y+1)*target_dimension[1]])\n",
    "                #print(\"Mitte\", x*target_dimension[0], (x+1)*target_dimension[0], y*target_dimension[1], (y+1)*target_dimension[1])\n",
    "    \n",
    "    return imgs_sliced"
   ]
  },
  {
   "cell_type": "code",
   "execution_count": 5,
   "metadata": {},
   "outputs": [
    {
     "ename": "SyntaxError",
     "evalue": "invalid syntax (3578697584.py, line 14)",
     "output_type": "error",
     "traceback": [
      "\u001b[0;36m  Input \u001b[0;32mIn [5]\u001b[0;36m\u001b[0m\n\u001b[0;31m    print(f\"Count of sliced IMAGES with dimensions {dim}\":  {len(sliced_img_dict.items())})\u001b[0m\n\u001b[0m                                                         ^\u001b[0m\n\u001b[0;31mSyntaxError\u001b[0m\u001b[0;31m:\u001b[0m invalid syntax\n"
     ]
    }
   ],
   "source": [
    "sliced_img_dict = read_pickle(path=os.path.join(base_path, preprocessing_path, sliced_path, dim_path, f\"{sliced_path}_{dim_path}_img_dict.pkl\"))\n",
    "if sliced_img_dict is None:\n",
    "\n",
    "    sliced_img_dict = {(file.split('_')[0], idx):  sliced_img\n",
    "                       for idx, file in enumerate([f\n",
    "                                                   for f in os.listdir(os.path.join(base_path, img_path)) \n",
    "                                                   if os.path.isfile(os.path.join(base_path, img_path, f)) and \".tif\" in f])\n",
    "                       for idx, sliced_img in enumerate(img_Sliced(img=cv2.imread(os.path.join(base_path, img_path, file), cv2.COLOR_BGR2RGB), \n",
    "                                                                   target_dimension=(dim, dim)\n",
    "                                                                  )\n",
    "                                                       )\n",
    "                      }\n",
    "    write_pickle(path=os.path.join(base_path, preprocessing_path, sliced_path, dim_path, f\"{sliced_path}_{dim_path}_img_dict.pkl\"), obj=sliced_img_dict)\n",
    "    print(f\"Count of sliced IMAGES with dimensions {dim}:  {len(sliced_img_dict.items())}\")\n",
    "else:\n",
    "    print(\"Read from Disk\")"
   ]
  },
  {
   "cell_type": "code",
   "execution_count": null,
   "metadata": {},
   "outputs": [],
   "source": [
    "sliced_mask_dict = read_pickle(path=os.path.join(base_path, preprocessing_path, sliced_path, dim_path, f\"{sliced_path}_{dim_path}_mask_dict.pkl\"))\n",
    "if sliced_mask_dict is None:\n",
    "    \n",
    "    sliced_mask_dict = {(file.split('_')[0], idx):  sliced_img\n",
    "                       for idx, file in enumerate([f\n",
    "                                                   for f in os.listdir(os.path.join(base_path, mask_path)) \n",
    "                                                   if os.path.isfile(os.path.join(base_path, mask_path, f)) and \".tif\" in f])\n",
    "                       for idx, sliced_img in enumerate(img_Sliced(img=cv2.imread(os.path.join(base_path, mask_path, file), cv2.COLOR_BGR2RGB), \n",
    "                                                                   target_dimension=(dim, dim)\n",
    "                                                                  )\n",
    "                                                       )\n",
    "                      }\n",
    "\n",
    "    write_pickle(path=os.path.join(base_path, preprocessing_path, sliced_path, dim_path, f\"{sliced_path}_{dim_path}_mask_dict.pkl\"), obj=sliced_mask_dict)\n",
    "    print(f\"Count of sliced MASK with dimensions {dim}: {len(sliced_mask_dict.items())}\")\n",
    "else: \n",
    "    print(\"Read from Disk\")"
   ]
  },
  {
   "cell_type": "markdown",
   "metadata": {},
   "source": [
    "Filter functions - filters out the tiles that don't have the desired target_dimension"
   ]
  },
  {
   "cell_type": "code",
   "execution_count": null,
   "metadata": {},
   "outputs": [],
   "source": [
    "def filter_img(img, thresholdWidth:int, thresholdHeight:int):\n",
    "    try:\n",
    "        height, width, channels = img.shape\n",
    "    except Exception as e:\n",
    "        height, width = img.shape\n",
    "\n",
    "    # if only height is smaller the thresholdHeight\n",
    "    if (height < thresholdHeight and width >= thresholdWidth):\n",
    "        return False      \n",
    "    # if only width is smaller the thresholdWidth\n",
    "    elif (height >= thresholdHeight and width < thresholdWidth): \n",
    "        return False\n",
    "    # if both the parameters are smaller\n",
    "    # the threshold attributes\n",
    "    elif (height < thresholdHeight and width < thresholdWidth):\n",
    "        return False\n",
    "        \n",
    "    return True"
   ]
  },
  {
   "cell_type": "code",
   "execution_count": null,
   "metadata": {},
   "outputs": [],
   "source": [
    "filtered_img_dict = read_pickle(path=os.path.join(base_path, preprocessing_path, filtered_path, dim_path, f\"{filtered_path}_{dim_path}_img_dict.pkl\"))\n",
    "if filtered_img_dict is None:\n",
    "        \n",
    "        filtered_img_dict = {k: v for k, v in sliced_img_dict.items() if filter_img(img=v, thresholdWidth=dim, thresholdHeight=dim)}\n",
    "       \n",
    "    write_pickle(path=os.path.join(base_path, preprocessing_path, filtered_path, dim_path, f\"{filtered_path}_{dim_path}_img_dict.pkl\"), obj=filtered_img_dict)\n",
    "    print(f\"Count of FILTERED IMAGES with dimensions {dim}:  {len(filtered_img_dict.items())}\")\n",
    "else:\n",
    "    print(\"Read from Disk\")"
   ]
  },
  {
   "cell_type": "code",
   "execution_count": null,
   "metadata": {},
   "outputs": [],
   "source": [
    "filtered_mask_dict = read_pickle(path=os.path.join(base_path, preprocessing_path, filtered_path, dim_path, f\"{filtered_path}_{dim_path}_mask_dict.pkl\"))\n",
    "if filtered_mask_dict is None:\n",
    "    filtered_mask_dict = {k: v for k, v in sliced_mask_dict.items() if filter_img(img=v, thresholdWidth=dim, thresholdHeight=dim)}\n",
    "    \n",
    "\n",
    "    write_pickle(path=os.path.join(base_path, preprocessing_path, filtered_path, dim_path, f\"{filtered_path}_{dim_path}_mask_dict.pkl\"), obj=filtered_mask_dict)\n",
    "    print(f\"Count of FILTERED MASKS with dimensions {dim}:  {len(filtered_img_dict.items())}\")\n",
    "else:\n",
    "    print(\"Read from Disk\")"
   ]
  },
  {
   "cell_type": "markdown",
   "metadata": {},
   "source": [
    "Preprocessing function for StarDist - slices the filtered tiles into 4 pieces and upscales them again to the desired dimension"
   ]
  },
  {
   "cell_type": "code",
   "execution_count": null,
   "metadata": {},
   "outputs": [],
   "source": [
    "def second_slice(img):\n",
    "    try:\n",
    "        h, w, channels = img.shape\n",
    "    except Exception as e:\n",
    "        h, w = img.shape\n",
    "    vertical = w//2\n",
    "    horizontal = h//2\n",
    "\n",
    "  # this will be the first column\n",
    "    left_top = img[:horizontal , :vertical]\n",
    "    left_bottom = img[horizontal: , :vertical]\n",
    "    \n",
    "  # [:,:half] means all the rows and\n",
    "  # all the columns upto index half\n",
    "  # this will be the second column\n",
    "    right_top = img[:horizontal, vertical:]\n",
    "    right_bottom = img[horizontal:, vertical:]\n",
    "  # this is horizontal division\n",
    "    new_slices = [left_top, left_bottom, right_top, right_bottom]\n",
    "\n",
    "    return new_slices\n",
    "\n",
    "\n",
    "def upscale(img, scale_factor = 2):\n",
    "    width = int(img.shape[1] * scale_factor)\n",
    "    height = int(img.shape[0] * scale_factor)\n",
    "    dim = (width, height)\n",
    "    \n",
    "    return cv2.resize(img, dim, interpolation = cv2.INTER_AREA)\n",
    "\n",
    "\n",
    "def upscale_wrapper(img):\n",
    "    img_list = second_slice(img)\n",
    "    img_list = [upscale(i, scale_factor = 2) for i in img_list]\n",
    "    \n",
    "    return img_list"
   ]
  },
  {
   "cell_type": "code",
   "execution_count": null,
   "metadata": {},
   "outputs": [],
   "source": [
    "img_dict_scaled = read_pickle(path=os.path.join(base_path, preprocessing_path, scaled_path, dim_path, f\"{scaled_path}_{dim_path}_img_dict.pkl\"))\n",
    "if img_dict_scaled is None:\n",
    "    img_dict_scaled = {(k,idx): scaled_img \n",
    "                        for k, v in filtered_img_dict.items() \n",
    "                        for idx, scaled_img in enumerate(upscale_wrapper(v))}\n",
    "\n",
    "\n",
    "    write_pickle(path=os.path.join(base_path, preprocessing_path, scaled_path, dim_path, f\"{scaled_path}_{dim_path}_img_dict.pkl\"), obj=img_dict_scaled)\n",
    "    print(f\"Count of SCALED IMAGES with dimensions {dim}:  {len(img_dict_scaled.items())}\")\n",
    "else:\n",
    "    print(\"Read from Disk\")"
   ]
  },
  {
   "cell_type": "code",
   "execution_count": null,
   "metadata": {},
   "outputs": [],
   "source": [
    "mask_dict_scaled = read_pickle(path=os.path.join(base_path, preprocessing_path, scaled_path, dim_path, f\"{scaled_path}_{dim_path}_mask_dict.pkl\"))\n",
    "if mask_dict_scaled is None:\n",
    "    mask_dict_scaled = {(k,idx): scaled_img\n",
    "                        for k,v in filtered_mask_dict.items()\n",
    "                        for idx, scaled_img in enumerate(upscale_wrapper(v))}\n",
    "\n",
    "    write_pickle(path=os.path.join(base_path, preprocessing_path, scaled_path, dim_path, f\"{scaled_path}_{dim_path}_mask_dict.pkl\"), obj=mask_dict_scaled)\n",
    "    print(f\"Count of SCALED MASKS with dimensions {dim}:  {len(mask_dict_scaled.items())}\")\n",
    "else:\n",
    "    print(\"Read from Disk\")"
   ]
  },
  {
   "cell_type": "code",
   "execution_count": null,
   "metadata": {},
   "outputs": [],
   "source": [
    "def plot_img(target_dir: str, img_dict: dict, identifier: tuple):\n",
    "        cv2.imwrite(os.path.join(target_dir, f\"{identifier[0]}_{identifier[1]}.jpg\", v)"
   ]
  },
  {
   "cell_type": "code",
   "execution_count": null,
   "metadata": {},
   "outputs": [],
   "source": [
    "plot_img(target_dir = os.path.join(base_path, preprocessing_path, tile_path), img_dict=filtered_img_dict, identifier=(\"\",))"
   ]
  }
 ],
 "metadata": {
  "kernelspec": {
   "display_name": "PDAC",
   "language": "python",
   "name": "pdac"
  },
  "language_info": {
   "codemirror_mode": {
    "name": "ipython",
    "version": 3
   },
   "file_extension": ".py",
   "mimetype": "text/x-python",
   "name": "python",
   "nbconvert_exporter": "python",
   "pygments_lexer": "ipython3",
   "version": "3.9.12"
  }
 },
 "nbformat": 4,
 "nbformat_minor": 4
}
