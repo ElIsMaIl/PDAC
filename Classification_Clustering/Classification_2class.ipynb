{
 "cells": [
  {
   "cell_type": "code",
   "execution_count": 1,
   "id": "5cc50c5a-0348-4d48-a779-fd586ee49a2f",
   "metadata": {},
   "outputs": [],
   "source": [
    "import sklearn\n",
    "from sklearn import linear_model\n",
    "from sklearn import svm\n",
    "from sklearn.linear_model import LogisticRegression\n",
    "from sklearn import metrics, preprocessing\n",
    "from sklearn.metrics import roc_curve, auc, roc_auc_score, confusion_matrix, accuracy_score, f1_score, recall_score, precision_score, classification_report\n",
    "from scikitplot.metrics import plot_roc, plot_precision_recall, plot_confusion_matrix\n",
    "from sklearn.preprocessing import LabelEncoder, StandardScaler, MinMaxScaler\n",
    "from sklearn.model_selection import train_test_split\n",
    "import matplotlib.pyplot as plt\n",
    "from collections import Counter\n",
    "from imblearn.over_sampling import RandomOverSampler\n",
    "from imblearn.under_sampling import RandomUnderSampler\n",
    "\n",
    "\n",
    "import sys, cv2, pickle, math, os\n",
    "import numpy as np\n",
    "from numpy import argmax\n",
    "import seaborn as sns\n",
    "import pandas as pd\n",
    "import matplotlib.pyplot as plt\n",
    "\n",
    "from os import listdir \n",
    "from os.path import isfile, join\n",
    "from tifffile import imread, imsave\n",
    "from glob import glob\n",
    "\n",
    "np.random.seed(109)\n",
    "\n",
    "\n",
    "import logging\n",
    "logger = logging.getLogger()  # Logger\n",
    "\n",
    "logger.setLevel(\"INFO\")\n",
    "#logging.info(\"Hello\")"
   ]
  },
  {
   "cell_type": "code",
   "execution_count": 2,
   "id": "2d3555ff-855e-474c-b544-50622b67b280",
   "metadata": {},
   "outputs": [],
   "source": [
    "def write_pickle(path, obj):\n",
    "    with open(path, \"wb\") as f:\n",
    "        pickle.dump(obj, f)\n",
    "        \n",
    "def read_pickle(path):\n",
    "    with open(path, \"rb\") as f:\n",
    "        obj = pickle.load(f)\n",
    "    return obj"
   ]
  },
  {
   "cell_type": "code",
   "execution_count": 3,
   "id": "4d630757-66e4-47a0-8ae6-830a1751d881",
   "metadata": {},
   "outputs": [],
   "source": [
    "df_dataset = read_pickle(path=\"/mnt/DataRAID/melismail/Preprocessing/data/pickle_data/SVM/df_combined_incept.pkl\")"
   ]
  },
  {
   "cell_type": "code",
   "execution_count": 4,
   "id": "63c38a6e-67e9-41bb-972d-5d94e93a7889",
   "metadata": {},
   "outputs": [
    {
     "name": "stdout",
     "output_type": "stream",
     "text": [
      "             Img         lbl  \\\n",
      "0  18QH2FGR4_270  non-cancer   \n",
      "1  18QH2FGR4_324  non-cancer   \n",
      "2  18QH2FGR4_322  non-cancer   \n",
      "3  18QH2FGR4_397  non-cancer   \n",
      "4  18QH2FGR4_436  non-cancer   \n",
      "\n",
      "                                            Features  \n",
      "0  [0.17763883, 0.14930727, 0.099433355, 0.046645...  \n",
      "1  [0.2863244, 0.029040584, 0.13237323, 0.0353634...  \n",
      "2  [0.25656575, 0.19232213, 0.34882596, 0.2506054...  \n",
      "3  [0.07404756, 0.05178327, 0.018168312, 0.131144...  \n",
      "4  [0.10449956, 0.085279934, 0.0015779797, 0.0874...  \n"
     ]
    }
   ],
   "source": [
    "print(df_dataset.head())"
   ]
  },
  {
   "cell_type": "code",
   "execution_count": 5,
   "id": "bb24cbfd-ff63-412d-b2ab-c0f7d0a31138",
   "metadata": {},
   "outputs": [],
   "source": [
    "X = df_dataset[\"Features\"].to_list()\n",
    "y = df_dataset[\"lbl\"]"
   ]
  },
  {
   "cell_type": "code",
   "execution_count": 6,
   "id": "07f174e6-122d-4cce-8515-a0b3e9bfa1b9",
   "metadata": {},
   "outputs": [
    {
     "name": "stdout",
     "output_type": "stream",
     "text": [
      "[1 1 1 ... 1 1 0]\n"
     ]
    }
   ],
   "source": [
    "label_encoder = LabelEncoder()\n",
    "y = label_encoder.fit_transform(y)\n",
    "print(y)"
   ]
  },
  {
   "cell_type": "code",
   "execution_count": 7,
   "id": "3b30ae2e-91da-4e5e-ada2-ffac7ef57a8d",
   "metadata": {},
   "outputs": [
    {
     "name": "stdout",
     "output_type": "stream",
     "text": [
      "non-cancer    1817\n",
      "cancer         965\n",
      "Name: lbl, dtype: int64\n"
     ]
    },
    {
     "data": {
      "image/png": "[encoded data removed]",
      "text/plain": [
       "<Figure size 432x288 with 1 Axes>"
      ]
     },
     "metadata": {
      "needs_background": "light"
     },
     "output_type": "display_data"
    }
   ],
   "source": [
    "sns.countplot(data=df_dataset, x=\"lbl\", color=\"blue\")\n",
    "plt.savefig('classdistribution_count.png')\n",
    "print(df_dataset[\"lbl\"].value_counts())"
   ]
  },
  {
   "cell_type": "code",
   "execution_count": 8,
   "id": "060bb15d-8938-4b04-9eef-c556d5fb654f",
   "metadata": {},
   "outputs": [
    {
     "name": "stdout",
     "output_type": "stream",
     "text": [
      "Training target statistics: Counter({1: 930, 0: 391})\n",
      "Testing target statistics: Counter({1: 226, 0: 105})\n"
     ]
    }
   ],
   "source": [
    "X_train, X_test, y_train, y_test = train_test_split(X, y, test_size=0.2,random_state=109)\n",
    "print(f\"Training target statistics: {Counter(y_train)}\")\n",
    "print(f\"Testing target statistics: {Counter(y_test)}\")"
   ]
  },
  {
   "cell_type": "code",
   "execution_count": 9,
   "id": "08dec0c0-f43b-464a-a8c3-479373befb2d",
   "metadata": {},
   "outputs": [],
   "source": [
    "def build_and_test(X_tr, X_te, y_tr, y_te, plot_dir:str, model_name:str, threshold=False, scaler:str='', balancer:str=''):\n",
    "    print( model_name, scaler, balancer, threshold)\n",
    "\n",
    "    direct = os.path.join(plot_dir, model_name, scaler, balancer, 'Threshold' if threshold else '') \n",
    "    os.makedirs(direct, exist_ok=True)\n",
    "\n",
    "    #scale data\n",
    "    if scaler == 'StandardScaler':\n",
    "        std_scaler = StandardScaler().fit(X_tr + X_te)\n",
    "        X_tr_scaled = std_scaler.transform(X_tr)\n",
    "        X_te_scaled = std_scaler.transform(X_te)\n",
    "    elif scaler == 'MinMaxScaler':\n",
    "        minmax_scaler = MinMaxScaler().fit(X_tr + X_te)\n",
    "        X_tr_scaled = minmax_scaler.transform(X_tr)\n",
    "        X_te_scaled = minmax_scaler.transform(X_te)\n",
    "    else:\n",
    "        X_tr_scaled = X_tr\n",
    "        X_te_scaled = X_te\n",
    "    \n",
    "    \n",
    "    #balance dataset\n",
    "    if balancer == 'RandomOversampler':\n",
    "        over_sampler = RandomOverSampler(random_state=109)\n",
    "        X_tr_sampled, y_tr_sampled = over_sampler.fit_resample(X_tr_scaled, y_tr)\n",
    "    elif balancer == 'RandomUndersampler':\n",
    "        under_sampler = RandomUnderSampler(random_state=109)\n",
    "        X_tr_sampled, y_tr_sampled = under_sampler.fit_resample(X_tr_scaled, y_tr)\n",
    "    else:\n",
    "        X_tr_sampled, y_tr_sampled = X_tr_scaled, y_tr\n",
    "    \n",
    "    \n",
    "    #build model\n",
    "    if model_name == 'SVM':\n",
    "        model = svm.SVC(kernel=\"linear\", C=1.0, probability=True)\n",
    "        model.fit(X_tr_sampled, y_tr_sampled)\n",
    "        y_pred = model.predict(X_te_scaled)\n",
    "    elif model_name == 'LogisticRegression':\n",
    "        model = LogisticRegression(max_iter=1500)\n",
    "        model.fit(X_tr_sampled, y_tr_sampled)\n",
    "        y_pred = model.predict(X_te_scaled)\n",
    "    else:\n",
    "        print(f'WARNING no {model} model found!')\n",
    "        \n",
    "    #print metrices    \n",
    "    result_dic = {f'Model': model,\n",
    "                  f'Balancer': balancer,\n",
    "                  f'Scaler': scaler,\n",
    "                  f'Precision score': precision_score(y_te, y_pred),\n",
    "                  f'Recall score':  recall_score(y_te, y_pred),\n",
    "                  f'F1-score score': f1_score(y_te, y_pred),\n",
    "                  f'Accuracy score': accuracy_score(y_te, y_pred),\n",
    "                  f'Area under the ROC curve (AUC)': roc_auc_score(y_te, y_pred)}\n",
    "\n",
    "    \n",
    "    y_score = model.predict_proba(X_te)\n",
    "    fpr0, tpr0, thresholds = roc_curve(y_te, y_score[:, 1])\n",
    "    roc_auc0 = auc(fpr0, tpr0)\n",
    "    \n",
    "    # Calculate the best threshold\n",
    "    best_threshold = None\n",
    "    if threshold:\n",
    "        J = tpr0 - fpr0\n",
    "        ix = argmax(J) # take the value which maximizes the J variable\n",
    "        best_threshold = thresholds[ix]\n",
    "        # adjust score according to threshold.\n",
    "        y_score = np.array([[1, y[1]] if y[0] >= best_threshold else [0, y[1]] for y in y_score])\n",
    "        \n",
    "    \n",
    "    result_dic['cm'] = confusion_matrix(y_te, y_pred)\n",
    "    \n",
    "    \n",
    "       \n",
    "    # Plot metrics \n",
    "    plot_roc(y_te, y_score)\n",
    "    plt.title(f'ROC curve of \\n model:{model} scaler:{scaler} \\n balancer:{balancer}')\n",
    "    plt.tight_layout()\n",
    "    plt.savefig(os.path.join(direct, 'roc.png'))\n",
    "    plt.clf()\n",
    "    plt.close()\n",
    "\n",
    "    \n",
    "    plot_precision_recall(y_te, y_score)\n",
    "    plt.title(f'Precision Recall curve of \\n model:{model} scaler:{scaler} \\n balancer:{balancer}')\n",
    "    plt.tight_layout()\n",
    "    plt.savefig(os.path.join(direct, 'precision_recall.png'))\n",
    "    plt.clf()\n",
    "    plt.close()\n",
    "\n",
    "    \n",
    "    plot_confusion_matrix(y_te, y_pred, cmap=plt.cm.Blues)\n",
    "    plt.title(f'Confusion Matrix of \\n model:{model} scaler:{scaler} \\n balancer:{balancer}')\n",
    "    plt.xlabel('Predicted Label')\n",
    "    plt.ylabel('True Label')\n",
    "    plt.savefig(os.path.join(direct, 'Confusion_Matrix.png'))\n",
    "    plt.clf()\n",
    "    plt.close()\n",
    "    \n",
    "    # Print a classification report\n",
    "    result_dic['classification_report'] = classification_report(y_te, y_pred)\n",
    "                \n",
    "    return result_dic"
   ]
  },
  {
   "cell_type": "code",
   "execution_count": 10,
   "id": "66848cf4-f53f-43fb-ae5a-05330d131d47",
   "metadata": {},
   "outputs": [
    {
     "name": "stdout",
     "output_type": "stream",
     "text": [
      "SVM MinMaxScaler RandomOversampler True\n",
      "SVM MinMaxScaler RandomOversampler False\n",
      "LogisticRegression MinMaxScaler RandomOversampler True\n",
      "LogisticRegression MinMaxScaler RandomOversampler False\n",
      "SVM MinMaxScaler RandomUndersampler True\n",
      "SVM MinMaxScaler RandomUndersampler False\n",
      "LogisticRegression MinMaxScaler RandomUndersampler True\n",
      "LogisticRegression MinMaxScaler RandomUndersampler False\n",
      "SVM MinMaxScaler  True\n",
      "SVM MinMaxScaler  False\n",
      "LogisticRegression MinMaxScaler  True\n",
      "LogisticRegression MinMaxScaler  False\n",
      "SVM StandardScaler RandomOversampler True\n",
      "SVM StandardScaler RandomOversampler False\n",
      "LogisticRegression StandardScaler RandomOversampler True\n",
      "LogisticRegression StandardScaler RandomOversampler False\n",
      "SVM StandardScaler RandomUndersampler True\n",
      "SVM StandardScaler RandomUndersampler False\n",
      "LogisticRegression StandardScaler RandomUndersampler True\n",
      "LogisticRegression StandardScaler RandomUndersampler False\n",
      "SVM StandardScaler  True\n",
      "SVM StandardScaler  False\n",
      "LogisticRegression StandardScaler  True\n",
      "LogisticRegression StandardScaler  False\n",
      "SVM  RandomOversampler True\n",
      "SVM  RandomOversampler False\n",
      "LogisticRegression  RandomOversampler True\n",
      "LogisticRegression  RandomOversampler False\n",
      "SVM  RandomUndersampler True\n",
      "SVM  RandomUndersampler False\n",
      "LogisticRegression  RandomUndersampler True\n",
      "LogisticRegression  RandomUndersampler False\n",
      "SVM   True\n",
      "SVM   False\n",
      "LogisticRegression   True\n",
      "LogisticRegression   False\n"
     ]
    }
   ],
   "source": [
    "plot_dir = '/mnt/DataRAID/melismail/Preprocessing/data/Classification/Vgg/2class/'\n",
    "balancer_list = ['RandomOversampler', 'RandomUndersampler', '']\n",
    "scaler_list = ['MinMaxScaler', 'StandardScaler', '']\n",
    "ml_model_list = ['SVM', 'LogisticRegression']\n",
    "threshold_list = [True, False]\n",
    "\n",
    "classification_dic  = [build_and_test(X_tr=X_train, X_te=X_test, y_tr=y_train, y_te=y_test, plot_dir=plot_dir, model_name = m, threshold=t, scaler=s, balancer=b)\n",
    "                       for s in scaler_list\n",
    "                       for b in balancer_list\n",
    "                       for m in ml_model_list\n",
    "                       for t in threshold_list]"
   ]
  },
  {
   "cell_type": "code",
   "execution_count": 11,
   "id": "31ecbc1d-668b-4b47-9987-004791b7b253",
   "metadata": {},
   "outputs": [],
   "source": [
    "write_pickle(path='/mnt/DataRAID/melismail/Preprocessing/data/Classification/classification_vgg.pkl', obj=classification_dic)"
   ]
  }
 ],
 "metadata": {
  "kernelspec": {
   "display_name": "PDAC",
   "language": "python",
   "name": "pdac"
  },
  "language_info": {
   "codemirror_mode": {
    "name": "ipython",
    "version": 3
   },
   "file_extension": ".py",
   "mimetype": "text/x-python",
   "name": "python",
   "nbconvert_exporter": "python",
   "pygments_lexer": "ipython3",
   "version": "3.9.12"
  }
 },
 "nbformat": 4,
 "nbformat_minor": 5
}
