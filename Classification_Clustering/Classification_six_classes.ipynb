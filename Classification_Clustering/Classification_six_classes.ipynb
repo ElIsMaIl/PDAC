{
 "cells": [
  {
   "cell_type": "code",
   "execution_count": 1,
   "id": "5cc50c5a-0348-4d48-a779-fd586ee49a2f",
   "metadata": {},
   "outputs": [],
   "source": [
    "working_directory = '/mnt/DataRAID/melismail/PDAC'\n",
    "import os\n",
    "os.chdir(working_directory)\n",
    "from pickle_utils import write_pickle, read_pickle\n",
    "\n",
    "import sys, math\n",
    "import numpy as np\n",
    "import seaborn as sns\n",
    "import pandas as pd\n",
    "import matplotlib.pyplot as plt\n",
    "\n",
    "from os import listdir \n",
    "from os.path import isfile, join\n",
    "from numpy import argmax\n",
    "from tifffile import imread, imsave\n",
    "from glob import glob\n",
    "\n",
    "\n",
    "import sklearn\n",
    "from sklearn import linear_model\n",
    "from sklearn import svm\n",
    "from sklearn.linear_model import LogisticRegression\n",
    "from sklearn import metrics, preprocessing\n",
    "from sklearn.metrics import roc_curve, auc, roc_auc_score, confusion_matrix, accuracy_score, f1_score, recall_score, precision_score, classification_report\n",
    "from scikitplot.metrics import plot_roc, plot_precision_recall, plot_confusion_matrix\n",
    "from sklearn.preprocessing import LabelEncoder, label_binarize, StandardScaler, MinMaxScaler\n",
    "from sklearn.model_selection import train_test_split\n",
    "from sklearn.multiclass import OneVsRestClassifier, OneVsOneClassifier\n",
    "import matplotlib.pyplot as plt\n",
    "from collections import Counter\n",
    "from imblearn.over_sampling import RandomOverSampler\n",
    "from imblearn.under_sampling import RandomUnderSampler\n",
    "\n",
    "np.random.seed(109)"
   ]
  },
  {
   "cell_type": "code",
   "execution_count": 2,
   "id": "2d3555ff-855e-474c-b544-50622b67b280",
   "metadata": {},
   "outputs": [],
   "source": [
    "base_path = '/mnt/DataRAID/melismail/PDAC/data'\n",
    "preprocessing_path ='Preprocessing_mask_annotation'\n",
    "model_path = 'VGG-16' #InceptionV3 #ResNet50\n",
    "clustering_path = 'Clustering'\n",
    "plot_path = 'plots/Clustering' \n",
    "class_path = 'six_classes/celltypes'"
   ]
  },
  {
   "cell_type": "code",
   "execution_count": 3,
   "id": "4d630757-66e4-47a0-8ae6-830a1751d881",
   "metadata": {},
   "outputs": [],
   "source": [
    "df_dataset = read_pickle(path=os.path.join(base_path, preprocessing_path, model_path, f\"{model_path}_celltypes_lbl_df.pkl\"))"
   ]
  },
  {
   "cell_type": "code",
   "execution_count": 4,
   "id": "63c38a6e-67e9-41bb-972d-5d94e93a7889",
   "metadata": {},
   "outputs": [
    {
     "name": "stdout",
     "output_type": "stream",
     "text": [
      "   Pseudonym  tile_id    lbl_mask  Acinar cells  Alpha cells  B cells  Basal  \\\n",
      "0  IAA2LDX17  (1, 23)  non-cancer           0.0          0.0      0.0    0.0   \n",
      "1  IAA2LDX17  (1, 27)  non-cancer           0.0          0.0      1.0    2.0   \n",
      "2  IAA2LDX17  (1, 28)  non-cancer           0.0          0.0      1.0    1.0   \n",
      "3  IAA2LDX17  (1, 29)  non-cancer           1.0          0.0      0.0    1.0   \n",
      "4  18QH2FGR4  (2, 17)  non-cancer           0.0          0.0      0.0    0.0   \n",
      "\n",
      "   Beta cells  Classical_CEACAM  Classical_KRT7  ...  NK cells  Schwann cells  \\\n",
      "0         0.0               1.0             2.0  ...       0.0            0.0   \n",
      "1         0.0               8.0             0.0  ...       0.0            0.0   \n",
      "2         1.0              12.0             0.0  ...       2.0            1.0   \n",
      "3         0.0               2.0             0.0  ...       0.0            0.0   \n",
      "4         0.0               0.0             0.0  ...       0.0            0.0   \n",
      "\n",
      "   T cells  iCAF  myCAF_ACTA2  myCAF_POSTN  most_prevalent_cancer  \\\n",
      "0      0.0   0.0          0.0          0.0         Classical_KRT7   \n",
      "1      0.0   0.0          0.0          0.0       Classical_CEACAM   \n",
      "2      0.0   0.0          1.0          0.0       Classical_CEACAM   \n",
      "3      0.0   0.0          1.0          0.0         Classical_TFF1   \n",
      "4      0.0   0.0          0.0          1.0         Classical_TFF1   \n",
      "\n",
      "                                            Features     lbl   same  \n",
      "0  [0.0, 0.0, 0.205618, 0.0, 0.0, 0.0, 0.18878153...  cancer  False  \n",
      "1  [0.0, 0.0, 0.61233103, 0.0, 0.0, 0.0, 0.149802...  cancer  False  \n",
      "2  [0.0, 0.0, 0.64216197, 0.0, 0.0, 0.0, 0.469332...  cancer  False  \n",
      "3  [0.0, 0.0, 0.31050318, 0.0, 0.0, 0.0, 0.143701...  cancer  False  \n",
      "4  [0.0, 0.0, 0.9580163, 0.0, 0.0, 0.0, 0.0459277...  cancer  False  \n",
      "\n",
      "[5 rows x 29 columns]\n"
     ]
    }
   ],
   "source": [
    "print(df_dataset.head())"
   ]
  },
  {
   "cell_type": "code",
   "execution_count": 5,
   "id": "bb24cbfd-ff63-412d-b2ab-c0f7d0a31138",
   "metadata": {},
   "outputs": [],
   "source": [
    "X = df_dataset[\"Features\"].to_list()\n",
    "y = df_dataset[\"most_prevalent_cancer\"]"
   ]
  },
  {
   "cell_type": "code",
   "execution_count": 6,
   "id": "a258285c-c9eb-4777-acad-5622bfd98134",
   "metadata": {},
   "outputs": [
    {
     "name": "stdout",
     "output_type": "stream",
     "text": [
      "{0: 'Basal', 1: 'Classical_CEACAM', 2: 'Classical_KRT7', 3: 'Classical_REG4', 4: 'Classical_TFF1', 5: 'non-cancer'}\n",
      "['Basal', 'Classical_CEACAM', 'Classical_KRT7', 'Classical_REG4', 'Classical_TFF1', 'non-cancer']\n"
     ]
    }
   ],
   "source": [
    "y_dic = {idx: i for idx, i in enumerate(np.unique(y))}\n",
    "classes = sorted(y_dic.items(), key=lambda item: item[0])\n",
    "classes = [i[1] for i in classes]\n",
    "print(y_dic)\n",
    "print(classes)"
   ]
  },
  {
   "cell_type": "code",
   "execution_count": 7,
   "id": "e342fcd7-455e-497b-a45d-fc4b48c231b3",
   "metadata": {},
   "outputs": [],
   "source": [
    "#y = label_binarize(y, classes=classes)\n",
    "#n_classes = y.shape[1]"
   ]
  },
  {
   "cell_type": "code",
   "execution_count": 7,
   "id": "07f174e6-122d-4cce-8515-a0b3e9bfa1b9",
   "metadata": {},
   "outputs": [],
   "source": [
    "label_encoder = LabelEncoder()\n",
    "y = label_encoder.fit_transform(y)\n",
    "n_classes = 6"
   ]
  },
  {
   "cell_type": "code",
   "execution_count": 8,
   "id": "6abab356-6ec5-4cc1-b5fc-fdc9aad78247",
   "metadata": {},
   "outputs": [
    {
     "name": "stdout",
     "output_type": "stream",
     "text": [
      "[2 1 1 ... 2 5 5]\n"
     ]
    }
   ],
   "source": [
    "print(y)"
   ]
  },
  {
   "cell_type": "code",
   "execution_count": 9,
   "id": "3b30ae2e-91da-4e5e-ada2-ffac7ef57a8d",
   "metadata": {},
   "outputs": [
    {
     "name": "stdout",
     "output_type": "stream",
     "text": [
      "non-cancer          9170\n",
      "Classical_CEACAM     925\n",
      "Classical_TFF1       734\n",
      "Basal                568\n",
      "Classical_KRT7       556\n",
      "Classical_REG4        48\n",
      "Name: most_prevalent_cancer, dtype: int64\n"
     ]
    },
    {
     "data": {
      "image/png": "[encoded data removed]",
      "text/plain": [
       "<Figure size 432x288 with 1 Axes>"
      ]
     },
     "metadata": {
      "needs_background": "light"
     },
     "output_type": "display_data"
    }
   ],
   "source": [
    "sns.countplot(data=df_dataset, x=\"most_prevalent_cancer\", color=\"blue\")\n",
    "plt.xticks(rotation=90)\n",
    "plt.tight_layout()\n",
    "print(df_dataset[\"most_prevalent_cancer\"].value_counts())"
   ]
  },
  {
   "cell_type": "code",
   "execution_count": 11,
   "id": "060bb15d-8938-4b04-9eef-c556d5fb654f",
   "metadata": {},
   "outputs": [],
   "source": [
    "X_train, X_test, y_train, y_test = train_test_split(X, y, test_size=0.2,random_state=109)\n",
    "#print(f\"Training target statistics: {Counter(y_train)}\")\n",
    "#print(f\"Testing target statistics: {Counter(y_test)}\")"
   ]
  },
  {
   "cell_type": "code",
   "execution_count": 12,
   "id": "08dec0c0-f43b-464a-a8c3-479373befb2d",
   "metadata": {},
   "outputs": [],
   "source": [
    "def build_and_test(X_tr, X_te, y_tr, y_te, plot_dir:str, model_name:str, scaler:str='', balancer:str=''):\n",
    "    print( model_name, scaler, balancer)\n",
    "\n",
    "    direct = os.path.join(plot_dir, model_name, scaler, balancer) \n",
    "    os.makedirs(direct, exist_ok=True)\n",
    "\n",
    "    #scale data\n",
    "    if scaler == 'StandardScaler':\n",
    "        std_scaler = StandardScaler().fit(X_tr + X_te)\n",
    "        X_tr_scaled = std_scaler.transform(X_tr)\n",
    "        X_te_scaled = std_scaler.transform(X_te)\n",
    "    elif scaler == 'MinMaxScaler':\n",
    "        minmax_scaler = MinMaxScaler().fit(X_tr + X_te)\n",
    "        X_tr_scaled = minmax_scaler.transform(X_tr)\n",
    "        X_te_scaled = minmax_scaler.transform(X_te)\n",
    "    else:\n",
    "        X_tr_scaled = X_tr\n",
    "        X_te_scaled = X_te\n",
    "    \n",
    "    \n",
    "    #balance dataset\n",
    "    if balancer == 'RandomOversampler':\n",
    "        over_sampler = RandomOverSampler(random_state=109)\n",
    "        X_tr_sampled, y_tr_sampled = over_sampler.fit_resample(X_tr_scaled, y_tr)\n",
    "    elif balancer == 'RandomUndersampler':\n",
    "        under_sampler = RandomUnderSampler(random_state=109)\n",
    "        X_tr_sampled, y_tr_sampled = under_sampler.fit_resample(X_tr_scaled, y_tr)\n",
    "    else:\n",
    "        X_tr_sampled, y_tr_sampled = X_tr_scaled, y_tr\n",
    "    \n",
    "    \n",
    "    #build model\n",
    "    if model_name == 'SVM_ovo':\n",
    "        model = OneVsOneClassifier(svm.SVC(kernel='linear', C=1, probability=True))\n",
    "        model.fit(X_tr_sampled, y_tr_sampled)\n",
    "        y_pred = model.predict(X_te_scaled)\n",
    "    elif model_name == 'SVM_ovr':\n",
    "        model = OneVsRestClassifier(svm.SVC(kernel='linear', C=1, probability=True))\n",
    "        model.fit(X_tr_sampled, y_tr_sampled)\n",
    "        y_pred = model.predict(X_te_scaled)\n",
    "        y_score = model.predict_proba(X_te)\n",
    "    elif model_name == 'LogisticRegression_ovo':\n",
    "        model = OneVsOneClassifier(LogisticRegression(max_iter=1500))\n",
    "        model.fit(X_tr_sampled, y_tr_sampled)\n",
    "        y_pred = model.predict(X_te_scaled)\n",
    "    elif model_name == 'LogisticRegression_ovr':\n",
    "        model = OneVsRestClassifier(LogisticRegression(max_iter=1500))\n",
    "        model.fit(X_tr_sampled, y_tr_sampled)\n",
    "        y_pred = model.predict(X_te_scaled)\n",
    "        y_score = model.predict_proba(X_te)\n",
    "    else:\n",
    "        print(f'WARNING no {model} model found!')\n",
    "            \n",
    "    #print metrices    \n",
    "    result_dic = {f'Model': model,\n",
    "                  f'Balancer': balancer,\n",
    "                  f'Scaler': scaler,\n",
    "                  f'Precision score': precision_score(y_te, y_pred, average='macro'),\n",
    "                  f'Recall score':  recall_score(y_te, y_pred, average='macro'),\n",
    "                  f'F1-score score': f1_score(y_te, y_pred, average='macro'),\n",
    "                  f'Accuracy score': accuracy_score(y_te, y_pred)}\n",
    "\n",
    "    \n",
    "    plot_confusion_matrix(y_te, y_pred, cmap=plt.cm.Blues)\n",
    "    plt.title(f'Confusion Matrix of \\n model:{model} scaler:{scaler} \\n balancer:{balancer}')\n",
    "    plt.xlabel('Predicted Label')\n",
    "    plt.ylabel('True Label')\n",
    "    plt.savefig(os.path.join(direct, 'Confusion_Matrix.png'))\n",
    "    plt.clf()\n",
    "    plt.close()\n",
    "    \n",
    "    \n",
    "    # Compute ROC curve and ROC area for each class\n",
    "    fpr = dict()\n",
    "    tpr = dict()\n",
    "    roc_auc = dict()\n",
    "    for i in range(n_classes):\n",
    "        fpr[i], tpr[i], _ = roc_curve(y_te[:, i], y_score[:, i])\n",
    "        roc_auc[i] = auc(fpr[i], tpr[i])\n",
    "        \n",
    "    # Compute micro-average ROC curve and ROC area\n",
    "    fpr[\"micro\"], tpr[\"micro\"], _ = roc_curve(y_te.ravel(), y_score.ravel())\n",
    "    roc_auc[\"micro\"] = auc(fpr[\"micro\"], tpr[\"micro\"])\n",
    "    \n",
    "    # First aggregate all false positive rates\n",
    "    all_fpr = np.unique(np.concatenate([fpr[i] for i in range(n_classes)]))\n",
    "\n",
    "    # Then interpolate all ROC curves at this points\n",
    "    mean_tpr = np.zeros_like(all_fpr)\n",
    "    for i in range(n_classes):\n",
    "        mean_tpr += np.interp(all_fpr, fpr[i], tpr[i])\n",
    "\n",
    "    # Finally average it and compute AUC\n",
    "    mean_tpr /= n_classes\n",
    "\n",
    "    fpr[\"macro\"] = all_fpr\n",
    "    tpr[\"macro\"] = mean_tpr\n",
    "    roc_auc[\"macro\"] = auc(fpr[\"macro\"], tpr[\"macro\"])\n",
    "\n",
    "    # Plot all ROC curves\n",
    "    plt.figure()\n",
    "    plt.plot(\n",
    "        fpr[\"micro\"],\n",
    "        tpr[\"micro\"],\n",
    "        label=\"micro-average ROC curve (area = {0:0.2f})\".format(roc_auc[\"micro\"]),\n",
    "        color=\"deeppink\",\n",
    "        linestyle=\":\",\n",
    "        linewidth=4,\n",
    "    )\n",
    "\n",
    "    plt.plot(\n",
    "        fpr[\"macro\"],\n",
    "        tpr[\"macro\"],\n",
    "        label=\"macro-average ROC curve (area = {0:0.2f})\".format(roc_auc[\"macro\"]),\n",
    "        color=\"navy\",\n",
    "        linestyle=\":\",\n",
    "        linewidth=4,\n",
    "    )\n",
    "\n",
    "    colors = cycle([\"aqua\", \"darkorange\", \"cornflowerblue\"])\n",
    "    for i, color in zip(range(n_classes), colors):\n",
    "        plt.plot(\n",
    "            fpr[i],\n",
    "            tpr[i],\n",
    "            color=color,\n",
    "            lw=lw,\n",
    "            label=\"ROC curve of class {0} (area = {1:0.2f})\".format(i, roc_auc[i]),\n",
    "        )\n",
    "\n",
    "    plt.plot([0, 1], [0, 1], \"k--\", lw=lw)\n",
    "    plt.xlim([0.0, 1.0])\n",
    "    plt.ylim([0.0, 1.05])\n",
    "    plt.xlabel(\"False Positive Rate\")\n",
    "    plt.ylabel(\"True Positive Rate\")\n",
    "    plt.title(f'ROC curve of \\n model:{model} scaler:{scaler} \\n balancer:{balancer}')\n",
    "    plt.legend(loc=\"lower right\")\n",
    "    plt.savefig(os.path.join(direct, 'ROC_Curve.png'))\n",
    "    plt.clf()\n",
    "    plt.close() \n",
    "    \n",
    "    \n",
    "    result_dic['macro_roc_auc_ovo'] = roc_auc_score(y_test, y_prob, multi_class=\"ovo\", average=\"macro\")\n",
    "    result_dic['macro_roc_auc_ovr'] = roc_auc_score(y_test, y_prob, multi_class=\"ovr\", average=\"macro\")\n",
    "    \n",
    "       \n",
    "    \n",
    "    # Print a classification report\n",
    "    result_dic['classification_report'] = classification_report(y_te, y_pred)\n",
    "                \n",
    "    return result_dic"
   ]
  },
  {
   "cell_type": "code",
   "execution_count": null,
   "id": "66848cf4-f53f-43fb-ae5a-05330d131d47",
   "metadata": {},
   "outputs": [
    {
     "name": "stdout",
     "output_type": "stream",
     "text": [
      "SVM_ovr MinMaxScaler RandomOversampler\n"
     ]
    }
   ],
   "source": [
    "plot_dir = '/mnt/DataRAID/melismail/Preprocessing/data/Classification/Inception/6class/'\n",
    "balancer_list = ['RandomOversampler', 'RandomUndersampler', '']\n",
    "scaler_list = ['MinMaxScaler', 'StandardScaler', '']\n",
    "ml_model_list = ['SVM_ovr', 'SVM_ovo', 'LogisticRegression_ovo','LogisticRegression_ovr']\n",
    "\n",
    "classification_dic  = [build_and_test(X_tr=X_train, X_te=X_test, y_tr=y_train, y_te=y_test, plot_dir=os.path.join(base_path, plot_path, class_path, model_path), model_name = m, scaler=s, balancer=b)\n",
    "                       for s in scaler_list\n",
    "                       for b in balancer_list\n",
    "                       for m in ml_model_list]"
   ]
  },
  {
   "cell_type": "code",
   "execution_count": 14,
   "id": "dbd43e5f-3cc4-4d7c-991f-2b84bc757b8d",
   "metadata": {},
   "outputs": [],
   "source": [
    "def plotting():   \n",
    "    cm = confusion_matrix(y_te, y_pred)\n",
    "    \n",
    "    \n",
    "    import seaborn as sns\n",
    "    sns.heatmap(cm)\n",
    "    plt.show()"
   ]
  },
  {
   "cell_type": "code",
   "execution_count": null,
   "id": "1d391856-f5bd-4729-874d-b545a1bcdeae",
   "metadata": {},
   "outputs": [],
   "source": [
    "df_classification = pd.DataFrame(classification_dic)\n",
    "df_classification"
   ]
  },
  {
   "cell_type": "code",
   "execution_count": 15,
   "id": "31ecbc1d-668b-4b47-9987-004791b7b253",
   "metadata": {},
   "outputs": [],
   "source": [
    "write_pickle(path= os.path.join(base_path, clustering_path, class_path, model_path, f\"{model_path}_classification_dict.pkl\"), obj=classification_dic)\n",
    "write_pickle(path= os.path.join(base_path, clustering_path, class_path, model_path, f\"{model_path}_classification_df.pkl\"), obj=df_classification)"
   ]
  }
 ],
 "metadata": {
  "kernelspec": {
   "display_name": "PDAC",
   "language": "python",
   "name": "pdac"
  },
  "language_info": {
   "codemirror_mode": {
    "name": "ipython",
    "version": 3
   },
   "file_extension": ".py",
   "mimetype": "text/x-python",
   "name": "python",
   "nbconvert_exporter": "python",
   "pygments_lexer": "ipython3",
   "version": "3.9.12"
  }
 },
 "nbformat": 4,
 "nbformat_minor": 5
}
